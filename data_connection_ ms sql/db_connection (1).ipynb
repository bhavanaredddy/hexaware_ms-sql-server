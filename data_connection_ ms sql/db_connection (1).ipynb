{
 "cells": [
  {
   "cell_type": "code",
   "execution_count": 2,
   "id": "2fddbc14-f42e-4678-bbef-e1719a89e704",
   "metadata": {},
   "outputs": [
    {
     "name": "stdout",
     "output_type": "stream",
     "text": [
      "Defaulting to user installation because normal site-packages is not writeable\n",
      "Requirement already satisfied: mysql-connector-python in c:\\users\\sys\\appdata\\roaming\\python\\python312\\site-packages (9.3.0)\n",
      "Note: you may need to restart the kernel to use updated packages.\n"
     ]
    }
   ],
   "source": [
    "pip install mysql-connector-python"
   ]
  },
  {
   "cell_type": "code",
   "execution_count": 3,
   "id": "6aaa5df2-b0d1-484d-9c3d-1c6812a2327e",
   "metadata": {},
   "outputs": [
    {
     "name": "stdout",
     "output_type": "stream",
     "text": [
      "Defaulting to user installation because normal site-packages is not writeable\n",
      "Requirement already satisfied: pyodbc in c:\\programdata\\anaconda3\\lib\\site-packages (5.1.0)\n",
      "Note: you may need to restart the kernel to use updated packages.\n"
     ]
    }
   ],
   "source": [
    "pip install pyodbc\n"
   ]
  },
  {
   "cell_type": "code",
   "execution_count": 4,
   "id": "f6399c1f-612e-4435-816a-6b44588af4fa",
   "metadata": {},
   "outputs": [],
   "source": [
    "import mysql.connector"
   ]
  },
  {
   "cell_type": "code",
   "execution_count": null,
   "id": "6128e95f-2842-4bba-a300-72c392a97c2f",
   "metadata": {},
   "outputs": [],
   "source": []
  },
  {
   "cell_type": "code",
   "execution_count": null,
   "id": "bd625703-0a71-4d11-accb-4b46b4d63f5e",
   "metadata": {},
   "outputs": [],
   "source": []
  },
  {
   "cell_type": "code",
   "execution_count": null,
   "id": "a2d2568d-a66a-468f-8b04-3eefdedc965a",
   "metadata": {},
   "outputs": [],
   "source": []
  },
  {
   "cell_type": "code",
   "execution_count": 11,
   "id": "b2e47288-e465-4f71-b650-10f23d148d52",
   "metadata": {},
   "outputs": [
    {
     "ename": "NameError",
     "evalue": "name 'cursor' is not defined",
     "output_type": "error",
     "traceback": [
      "\u001b[1;31m---------------------------------------------------------------------------\u001b[0m",
      "\u001b[1;31mNameError\u001b[0m                                 Traceback (most recent call last)",
      "Cell \u001b[1;32mIn[11], line 1\u001b[0m\n\u001b[1;32m----> 1\u001b[0m cursor\u001b[38;5;241m.\u001b[39mexecute(\u001b[38;5;124m\"\u001b[39m\u001b[38;5;124mcreate database\u001b[39m\u001b[38;5;124m\"\u001b[39m)\n\u001b[0;32m      2\u001b[0m cursor\u001b[38;5;241m.\u001b[39mexecute(\u001b[38;5;124m\"\u001b[39m\u001b[38;5;124mshow databases\u001b[39m\u001b[38;5;124m\"\u001b[39m)\n\u001b[0;32m      3\u001b[0m \u001b[38;5;28;01mfor\u001b[39;00m i \u001b[38;5;129;01min\u001b[39;00m cursor:\n",
      "\u001b[1;31mNameError\u001b[0m: name 'cursor' is not defined"
     ]
    }
   ],
   "source": [
    "cursor.execute(\"create database\")\n",
    "cursor.execute(\"show databases\")\n",
    "for i in cursor:\n",
    "    print(i)\n",
    "cursor=db.cursor()\n"
   ]
  },
  {
   "cell_type": "code",
   "execution_count": 13,
   "id": "ee119068-146c-44ac-adf1-0ec7471ae37e",
   "metadata": {},
   "outputs": [],
   "source": [
    "import pyodbc\n",
    "\n",
    "class DBUtil:\n",
    "    @staticmethod\n",
    "    def get_connection():\n",
    "        try:\n",
    "            connection = pyodbc.connect(\n",
    "                'DRIVER={ODBC Driver 17 for SQL Server};'\n",
    "                'SERVER=SAIBHAVANA\\\\SQLEXPRESS;'\n",
    "                'DATABASE=CarConnectDB;'\n",
    "                'Trusted_Connection=yes;'\n",
    "            )\n",
    "            print(\"✅ Connected to database successfully.\")\n",
    "            return connection\n",
    "        except Exception as e:\n",
    "            print(\"❌ Database connection failed:\", e)\n",
    "            return None\n"
   ]
  },
  {
   "cell_type": "code",
   "execution_count": 14,
   "id": "ff2bf3f6-06bf-4414-ac66-f0ba14ff5451",
   "metadata": {},
   "outputs": [
    {
     "name": "stdout",
     "output_type": "stream",
     "text": [
      "Defaulting to user installation because normal site-packages is not writeable\n",
      "Requirement already satisfied: mysql-connector-python in c:\\users\\sys\\appdata\\roaming\\python\\python312\\site-packages (9.3.0)\n"
     ]
    }
   ],
   "source": [
    "!pip install mysql-connector-python\n"
   ]
  },
  {
   "cell_type": "code",
   "execution_count": 34,
   "id": "0eca26f1-5053-4490-a32c-6683524ee0fc",
   "metadata": {},
   "outputs": [],
   "source": [
    "import mysql.connector\n"
   ]
  },
  {
   "cell_type": "code",
   "execution_count": null,
   "id": "c8a6ab98-bcdc-4a33-b009-89f6b721254e",
   "metadata": {},
   "outputs": [],
   "source": []
  },
  {
   "cell_type": "code",
   "execution_count": 17,
   "id": "8cb7cc7d-4195-4246-9ff7-d336c5282420",
   "metadata": {},
   "outputs": [
    {
     "name": "stdout",
     "output_type": "stream",
     "text": [
      "Defaulting to user installation because normal site-packages is not writeable\n",
      "Requirement already satisfied: pyodbc in c:\\programdata\\anaconda3\\lib\\site-packages (5.1.0)\n"
     ]
    }
   ],
   "source": [
    "!pip install pyodbc\n"
   ]
  },
  {
   "cell_type": "code",
   "execution_count": 18,
   "id": "a9b4e8eb-8219-4c20-8d50-ee9ee657b42c",
   "metadata": {},
   "outputs": [],
   "source": [
    "import pyodbc\n"
   ]
  },
  {
   "cell_type": "code",
   "execution_count": 19,
   "id": "1cd9faed-1224-444a-8881-d83938b9bb30",
   "metadata": {},
   "outputs": [],
   "source": [
    "conn = pyodbc.connect(\n",
    "    'DRIVER={ODBC Driver 17 for SQL Server};'\n",
    "    'SERVER=SAIBHAVANA\\\\SQLEXPRESS;'  \n",
    "    'DATABASE=master;'                \n",
    "    'Trusted_Connection=yes;'\n",
    ")\n"
   ]
  },
  {
   "cell_type": "code",
   "execution_count": 20,
   "id": "6883dd48-cfec-4b07-bc46-df36ba03b72f",
   "metadata": {},
   "outputs": [],
   "source": [
    "cursor = conn.cursor()\n"
   ]
  },
  {
   "cell_type": "code",
   "execution_count": 21,
   "id": "d7c1f43a-30a5-4bac-8b54-5f8155655df8",
   "metadata": {},
   "outputs": [
    {
     "name": "stdout",
     "output_type": "stream",
     "text": [
      "('master',)\n",
      "('tempdb',)\n",
      "('model',)\n",
      "('msdb',)\n",
      "('MovieBookingSystem',)\n",
      "('CarConnectDB',)\n",
      "('EcommerceDB',)\n",
      "('CareerHub',)\n"
     ]
    }
   ],
   "source": [
    "cursor.execute(\"SELECT name FROM sys.databases\")\n",
    "for row in cursor:\n",
    "    print(row)\n"
   ]
  },
  {
   "cell_type": "code",
   "execution_count": 22,
   "id": "fda4ec52-ec4e-4c65-aab9-ad318101b028",
   "metadata": {},
   "outputs": [
    {
     "name": "stdout",
     "output_type": "stream",
     "text": [
      "✅ Students table created successfully (if it didn't already exist).\n"
     ]
    }
   ],
   "source": [
    "create_table_query = \"\"\"\n",
    "IF NOT EXISTS (\n",
    "    SELECT * FROM INFORMATION_SCHEMA.TABLES \n",
    "    WHERE TABLE_NAME = 'Students'\n",
    ")\n",
    "BEGIN\n",
    "    CREATE TABLE Students (\n",
    "        StudentID INT PRIMARY KEY,\n",
    "        Name VARCHAR(100),\n",
    "        Age INT,\n",
    "        Department VARCHAR(50)\n",
    "    )\n",
    "END\n",
    "\"\"\"\n",
    "\n",
    "cursor.execute(create_table_query)\n",
    "conn.commit()\n",
    "print(\"✅ Students table created successfully (if it didn't already exist).\")\n"
   ]
  },
  {
   "cell_type": "code",
   "execution_count": 23,
   "id": "62fc5da6-25c3-4de7-8afa-c90eedc9de0b",
   "metadata": {},
   "outputs": [
    {
     "name": "stdout",
     "output_type": "stream",
     "text": [
      "('spt_fallback_db',)\n",
      "('spt_fallback_dev',)\n",
      "('spt_fallback_usg',)\n",
      "('Employeesdetails',)\n",
      "('Orders',)\n",
      "('Products',)\n",
      "('OrderDetails',)\n",
      "('CustomerOrders',)\n",
      "('Admin',)\n",
      "('Customer',)\n",
      "('Vehicle',)\n",
      "('Feedback',)\n",
      "('Students',)\n",
      "('spt_monitor',)\n",
      "('MSreplication_options',)\n"
     ]
    }
   ],
   "source": [
    "cursor.execute(\"SELECT TABLE_NAME FROM INFORMATION_SCHEMA.TABLES WHERE TABLE_TYPE = 'BASE TABLE'\")\n",
    "for table in cursor:\n",
    "    print(table)\n"
   ]
  },
  {
   "cell_type": "code",
   "execution_count": 24,
   "id": "03eb92e4-2ae3-4a86-86b2-d5b8f74496bb",
   "metadata": {},
   "outputs": [
    {
     "name": "stdout",
     "output_type": "stream",
     "text": [
      "('master',)\n",
      "('tempdb',)\n",
      "('model',)\n",
      "('msdb',)\n",
      "('MovieBookingSystem',)\n",
      "('CarConnectDB',)\n",
      "('EcommerceDB',)\n",
      "('CareerHub',)\n"
     ]
    }
   ],
   "source": [
    "cursor.execute(\"SELECT name FROM sys.databases\")\n",
    "for row in cursor:\n",
    "    print(row)"
   ]
  },
  {
   "cell_type": "code",
   "execution_count": 25,
   "id": "c7f8ff06-298a-4841-94e8-2e8fa9ed6aa7",
   "metadata": {},
   "outputs": [
    {
     "name": "stdout",
     "output_type": "stream",
     "text": [
      "spt_fallback_db\n",
      "spt_fallback_dev\n",
      "spt_fallback_usg\n",
      "Employeesdetails\n",
      "Orders\n",
      "Products\n",
      "OrderDetails\n",
      "CustomerOrders\n",
      "Admin\n",
      "Customer\n",
      "Vehicle\n",
      "Feedback\n",
      "Students\n",
      "spt_monitor\n",
      "MSreplication_options\n"
     ]
    }
   ],
   "source": [
    "cursor.execute(\"SELECT name FROM sys.tables\")\n",
    "\n",
    "for table in cursor:\n",
    "    print(table[0])\n"
   ]
  },
  {
   "cell_type": "code",
   "execution_count": null,
   "id": "d93ff874-69bd-4b1d-bd48-651f4c6ae970",
   "metadata": {},
   "outputs": [],
   "source": [
    "cursor.execute(\"CREATE DATABASE hexwaredb\")\n",
    "conn.commit()\n"
   ]
  },
  {
   "cell_type": "code",
   "execution_count": null,
   "id": "8be4b018-1c5b-42a2-bd38-139e2f78276a",
   "metadata": {},
   "outputs": [],
   "source": []
  },
  {
   "cell_type": "code",
   "execution_count": null,
   "id": "44bb0b68-0d60-4e4b-8b06-bb3789b72ea1",
   "metadata": {},
   "outputs": [],
   "source": []
  },
  {
   "cell_type": "code",
   "execution_count": null,
   "id": "d952c473-8e8b-4cde-ba46-05c903765961",
   "metadata": {},
   "outputs": [],
   "source": [
    "cursor.execute(\"\"\"\n",
    "CREATE TABLE profisionalworkers (\n",
    "    WorkerID INT PRIMARY KEY,\n",
    "    Name VARCHAR(100),\n",
    "    Skill VARCHAR(100),\n",
    "    Experience INT\n",
    ")\n",
    "\"\"\")\n",
    "conn.commit()\n",
    "print(\"✅ Table 'profisionalworkers' created successfully in 'hexwaredb'.\")"
   ]
  },
  {
   "cell_type": "code",
   "execution_count": 29,
   "id": "cf29aaaf-75f5-45d6-b5cc-6996d3588160",
   "metadata": {},
   "outputs": [],
   "source": [
    "conn = pyodbc.connect(\n",
    "    'DRIVER={ODBC Driver 17 for SQL Server};'\n",
    "    'SERVER=SAIBHAVANA\\\\SQLEXPRESS;'\n",
    "    'DATABASE=hexwaredb;'\n",
    "    'Trusted_Connection=yes;'\n",
    ")"
   ]
  },
  {
   "cell_type": "code",
   "execution_count": 30,
   "id": "e59365bb-3ad1-4e50-a4e1-b1bd992741bd",
   "metadata": {},
   "outputs": [],
   "source": [
    "cursor = conn.cursor()"
   ]
  },
  {
   "cell_type": "code",
   "execution_count": 33,
   "id": "75f31661-4c0e-4cf6-aa35-724f0c61486f",
   "metadata": {},
   "outputs": [
    {
     "name": "stdout",
     "output_type": "stream",
     "text": [
      "Table 'profisionalworkers' created successfully in 'hexwaredb'.\n"
     ]
    }
   ],
   "source": [
    "cursor.execute(\"\"\"\n",
    "CREATE TABLE profisionalworkers (\n",
    "    WorkerID INT PRIMARY KEY,\n",
    "    Name VARCHAR(100),\n",
    "    Skill VARCHAR(100),\n",
    "    Experience INT\n",
    ")\n",
    "\"\"\")\n",
    "conn.commit()\n",
    "print(\"Table 'profisionalworkers' created successfully in 'hexwaredb'.\")"
   ]
  },
  {
   "cell_type": "code",
   "execution_count": 35,
   "id": "89839bd1-656c-4f06-9d31-1da2365263ae",
   "metadata": {},
   "outputs": [
    {
     "name": "stdout",
     "output_type": "stream",
     "text": [
      "✅ Sample records inserted into 'profisionalworkers'.\n"
     ]
    }
   ],
   "source": [
    "cursor.execute(\"INSERT INTO profisionalworkers (WorkerID, Name, Skill, Experience) VALUES (1, 'John Doe', 'Python Developer', 5)\")\n",
    "cursor.execute(\"INSERT INTO profisionalworkers (WorkerID, Name, Skill, Experience) VALUES (2, 'Priya Singh', 'Data Analyst', 3)\")\n",
    "cursor.execute(\"INSERT INTO profisionalworkers (WorkerID, Name, Skill, Experience) VALUES (3, 'Ahmed Khan', 'Cloud Engineer', 4)\")\n",
    "conn.commit()\n",
    "\n",
    "print(\"✅ Sample records inserted into 'profisionalworkers'.\")"
   ]
  },
  {
   "cell_type": "code",
   "execution_count": 38,
   "id": "266c4d20-9e45-485b-bf94-b2570e4c7059",
   "metadata": {},
   "outputs": [
    {
     "name": "stdout",
     "output_type": "stream",
     "text": [
      "📋 Tables in 'hexwaredb':\n",
      " - spt_fallback_db\n",
      " - spt_fallback_dev\n",
      " - spt_fallback_usg\n",
      " - Employeesdetails\n",
      " - Orders\n",
      " - Products\n",
      " - OrderDetails\n",
      " - CustomerOrders\n",
      " - Admin\n",
      " - Customer\n",
      " - Vehicle\n",
      " - Feedback\n",
      " - Students\n",
      " - profisionalworkers\n",
      " - spt_monitor\n",
      " - MSreplication_options\n"
     ]
    }
   ],
   "source": [
    "cursor.execute(\"SELECT TABLE_NAME FROM INFORMATION_SCHEMA.TABLES WHERE TABLE_TYPE = 'BASE TABLE'\")\n",
    "tables = cursor.fetchall()\n",
    "\n",
    "if tables:\n",
    "    print(\"📋 Tables in 'hexwaredb':\")\n",
    "    for row in tables:\n",
    "        print(\" -\", row[0])\n",
    "else:\n",
    "    print(\"❌ No tables found in 'hexwaredb'.\")\n"
   ]
  },
  {
   "cell_type": "code",
   "execution_count": 37,
   "id": "750f1a9d-4ba8-45bb-83fa-dcd83da84dd1",
   "metadata": {},
   "outputs": [
    {
     "name": "stdout",
     "output_type": "stream",
     "text": [
      "📌 Currently connected to: master\n"
     ]
    }
   ],
   "source": [
    "cursor.execute(\"SELECT DB_NAME() AS CurrentDatabase\")\n",
    "for row in cursor:\n",
    "    print(\"📌 Currently connected to:\", row[0])\n"
   ]
  },
  {
   "cell_type": "code",
   "execution_count": null,
   "id": "d5112273-724b-4bb6-bb02-0a2334f79137",
   "metadata": {},
   "outputs": [],
   "source": []
  },
  {
   "cell_type": "code",
   "execution_count": null,
   "id": "bc9e84dc-b9ed-44d4-8f2e-b3188c9c0ccd",
   "metadata": {},
   "outputs": [],
   "source": []
  },
  {
   "cell_type": "code",
   "execution_count": null,
   "id": "a44c8fb6-c444-40f5-9570-f82cd5e3e72c",
   "metadata": {},
   "outputs": [],
   "source": []
  },
  {
   "cell_type": "code",
   "execution_count": null,
   "id": "706c5e2d-bda8-4bf0-9309-6d8e8bbfae2c",
   "metadata": {},
   "outputs": [],
   "source": []
  },
  {
   "cell_type": "code",
   "execution_count": 39,
   "id": "a707e485-ae9f-441f-8f04-b862da837338",
   "metadata": {},
   "outputs": [
    {
     "name": "stdout",
     "output_type": "stream",
     "text": [
      "✅ Now connected to: hexwaredb\n"
     ]
    }
   ],
   "source": [
    "import pyodbc\n",
    "\n",
    "# Connect directly to hexwaredb\n",
    "conn = pyodbc.connect(\n",
    "    'DRIVER={ODBC Driver 17 for SQL Server};'\n",
    "    'SERVER=SAIBHAVANA\\\\SQLEXPRESS;'\n",
    "    'DATABASE=hexwaredb;'     # ✅ Now you're inside the right DB\n",
    "    'Trusted_Connection=yes;'\n",
    ")\n",
    "cursor = conn.cursor()\n",
    "\n",
    "# Confirm\n",
    "cursor.execute(\"SELECT DB_NAME() AS CurrentDatabase\")\n",
    "for row in cursor:\n",
    "    print(\"✅ Now connected to:\", row[0])\n"
   ]
  },
  {
   "cell_type": "code",
   "execution_count": 42,
   "id": "5abb5b28-38b9-402f-9736-7738b2e77ff8",
   "metadata": {},
   "outputs": [],
   "source": [
    "cursor.execute(\"SELECT TABLE_NAME FROM INFORMATION_SCHEMA.TABLES WHERE TABLE_TYPE = 'BASE TABLE'\")\n",
    "for row in cursor:\n",
    "    print(\"📄\", row[0])\n"
   ]
  },
  {
   "cell_type": "code",
   "execution_count": 43,
   "id": "26a46a8a-d14d-4db7-92ca-0a80dcae0184",
   "metadata": {},
   "outputs": [
    {
     "name": "stdout",
     "output_type": "stream",
     "text": [
      "✅ Table 'hexwarecitizens' created in hexwaredb.\n"
     ]
    }
   ],
   "source": [
    "cursor.execute(\"\"\"\n",
    "IF NOT EXISTS (\n",
    "    SELECT * FROM INFORMATION_SCHEMA.TABLES \n",
    "    WHERE TABLE_NAME = 'hexwarecitizens'\n",
    ")\n",
    "BEGIN\n",
    "    CREATE TABLE hexwarecitizens (\n",
    "        WorkerID INT PRIMARY KEY,\n",
    "        Name VARCHAR(100),\n",
    "        Skill VARCHAR(100),\n",
    "        Experience INT\n",
    "    )\n",
    "END\n",
    "\"\"\")\n",
    "conn.commit()\n",
    "print(\"✅ Table 'hexwarecitizens' created in hexwaredb.\")\n"
   ]
  },
  {
   "cell_type": "code",
   "execution_count": 44,
   "id": "f448456a-6aad-49a2-86fb-e83ff7a58b07",
   "metadata": {},
   "outputs": [
    {
     "data": {
      "text/plain": [
       "<pyodbc.Cursor at 0x1aecbb514b0>"
      ]
     },
     "execution_count": 44,
     "metadata": {},
     "output_type": "execute_result"
    }
   ],
   "source": [
    "\n",
    "cursor.execute(\"INSERT INTO hexwarecitizens (WorkerID, Name, Skill, Experience) VALUES (1, 'Alice Thomas', 'Data Analyst', 3)\")\n",
    "cursor.execute(\"INSERT INTO hexwarecitizens (WorkerID, Name, Skill, Experience) VALUES (2, 'Ravi Kumar', 'Backend Developer', 5)\")\n",
    "cursor.execute(\"INSERT INTO hexwarecitizens (WorkerID, Name, Skill, Experience) VALUES (3, 'Sara Lee', 'UI/UX Designer', 2)\")\n",
    "\n"
   ]
  },
  {
   "cell_type": "code",
   "execution_count": 45,
   "id": "9205c1b7-381e-4599-9a9b-561f950e5b81",
   "metadata": {},
   "outputs": [
    {
     "name": "stdout",
     "output_type": "stream",
     "text": [
      "✅ Sample data inserted into 'hexwarecitizens'.\n"
     ]
    }
   ],
   "source": [
    "conn.commit()\n",
    "print(\"✅ Sample data inserted into 'hexwarecitizens'.\")\n"
   ]
  },
  {
   "cell_type": "code",
   "execution_count": 52,
   "id": "8567b17c-798d-4997-a1f1-1ce137dd75bd",
   "metadata": {},
   "outputs": [
    {
     "name": "stdout",
     "output_type": "stream",
     "text": [
      "✅ Table 'citizen_addresses' created.\n"
     ]
    }
   ],
   "source": [
    "cursor.execute(\"\"\"\n",
    "IF NOT EXISTS (\n",
    "    SELECT * FROM INFORMATION_SCHEMA.TABLES \n",
    "    WHERE TABLE_NAME = 'citizen_addresses'\n",
    ")\n",
    "BEGIN\n",
    "    CREATE TABLE citizen_addresses (\n",
    "        AddressID INT PRIMARY KEY,\n",
    "        WorkerID INT FOREIGN KEY REFERENCES hexwarecitizens(WorkerID),\n",
    "        Street VARCHAR(100),\n",
    "        City VARCHAR(50),\n",
    "        State VARCHAR(50),\n",
    "        Pincode VARCHAR(10)\n",
    "    )\n",
    "END\n",
    "\"\"\")\n",
    "conn.commit()\n",
    "print(\"✅ Table 'citizen_addresses' created.\")\n"
   ]
  },
  {
   "cell_type": "code",
   "execution_count": null,
   "id": "1f93535e-93e0-4d11-96f2-4d5ebe67b144",
   "metadata": {},
   "outputs": [],
   "source": []
  },
  {
   "cell_type": "code",
   "execution_count": 48,
   "id": "174afbf4-feb6-4f76-a5e1-c17a53b91e4c",
   "metadata": {},
   "outputs": [
    {
     "name": "stdout",
     "output_type": "stream",
     "text": [
      "✅ Table 'citizen_skills' created.\n"
     ]
    }
   ],
   "source": [
    "cursor.execute(\"\"\"\n",
    "IF NOT EXISTS (\n",
    "    SELECT * FROM INFORMATION_SCHEMA.TABLES \n",
    "    WHERE TABLE_NAME = 'citizen_skills'\n",
    ")\n",
    "BEGIN\n",
    "    CREATE TABLE citizen_skills (\n",
    "        SkillID INT PRIMARY KEY,\n",
    "        WorkerID INT FOREIGN KEY REFERENCES hexwarecitizens(WorkerID),\n",
    "        SkillName VARCHAR(100),\n",
    "        Certification VARCHAR(100)\n",
    "    )\n",
    "END\n",
    "\"\"\")\n",
    "conn.commit()\n",
    "print(\"✅ Table 'citizen_skills' created.\")\n"
   ]
  },
  {
   "cell_type": "code",
   "execution_count": 49,
   "id": "6631ede0-0601-48db-9f71-985a556dda9d",
   "metadata": {},
   "outputs": [
    {
     "name": "stdout",
     "output_type": "stream",
     "text": [
      "✅ Table 'citizen_projects' created.\n"
     ]
    }
   ],
   "source": [
    "cursor.execute(\"\"\"\n",
    "IF NOT EXISTS (\n",
    "    SELECT * FROM INFORMATION_SCHEMA.TABLES \n",
    "    WHERE TABLE_NAME = 'citizen_projects'\n",
    ")\n",
    "BEGIN\n",
    "    CREATE TABLE citizen_projects (\n",
    "        ProjectID INT PRIMARY KEY,\n",
    "        WorkerID INT FOREIGN KEY REFERENCES hexwarecitizens(WorkerID),\n",
    "        ProjectName VARCHAR(100),\n",
    "        Role VARCHAR(100),\n",
    "        DurationMonths INT\n",
    "    )\n",
    "END\n",
    "\"\"\")\n",
    "conn.commit()\n",
    "print(\"✅ Table 'citizen_projects' created.\")\n"
   ]
  },
  {
   "cell_type": "code",
   "execution_count": null,
   "id": "aed97b69-cf9a-4bec-8700-4b6fff38da09",
   "metadata": {},
   "outputs": [],
   "source": []
  },
  {
   "cell_type": "code",
   "execution_count": 54,
   "id": "11359e3a-1232-4c02-b793-5f044912c270",
   "metadata": {},
   "outputs": [
    {
     "name": "stdout",
     "output_type": "stream",
     "text": [
      "✅ Data inserted into 'citizen_skills'\n"
     ]
    }
   ],
   "source": [
    "cursor.execute(\"INSERT INTO citizen_skills (SkillID, WorkerID, SkillName, Certification) VALUES (1, 1, 'SQL', 'Oracle Certified')\")\n",
    "cursor.execute(\"INSERT INTO citizen_skills (SkillID, WorkerID, SkillName, Certification) VALUES (2, 2, 'Node.js', 'Udemy Full Stack')\")\n",
    "cursor.execute(\"INSERT INTO citizen_skills (SkillID, WorkerID, SkillName, Certification) VALUES (3, 3, 'Figma', 'Coursera UI/UX')\")\n",
    "conn.commit()\n",
    "print(\"✅ Data inserted into 'citizen_skills'\")\n"
   ]
  },
  {
   "cell_type": "code",
   "execution_count": 55,
   "id": "c1d4fad9-77a8-4028-ba25-d4d10d913dd7",
   "metadata": {},
   "outputs": [
    {
     "name": "stdout",
     "output_type": "stream",
     "text": [
      "✅ Data inserted into 'citizen_projects'\n"
     ]
    }
   ],
   "source": [
    "cursor.execute(\"INSERT INTO citizen_projects (ProjectID, WorkerID, ProjectName, Role, DurationMonths) VALUES (1, 1, 'Retail Dashboard', 'Data Analyst', 6)\")\n",
    "cursor.execute(\"INSERT INTO citizen_projects (ProjectID, WorkerID, ProjectName, Role, DurationMonths) VALUES (2, 2, 'E-Commerce API', 'Backend Developer', 8)\")\n",
    "cursor.execute(\"INSERT INTO citizen_projects (ProjectID, WorkerID, ProjectName, Role, DurationMonths) VALUES (3, 3, 'UX Revamp', 'UI Designer', 4)\")\n",
    "conn.commit()\n",
    "print(\"✅ Data inserted into 'citizen_projects'\")\n"
   ]
  },
  {
   "cell_type": "code",
   "execution_count": 57,
   "id": "bbb4b50e-2a6d-4848-86ab-3f27e98fb060",
   "metadata": {},
   "outputs": [
    {
     "ename": "IntegrityError",
     "evalue": "('23000', \"[23000] [Microsoft][ODBC Driver 17 for SQL Server][SQL Server]Violation of PRIMARY KEY constraint 'PK__citizen___091C2A1B091782C3'. Cannot insert duplicate key in object 'dbo.citizen_addresses'. The duplicate key value is (4). (2627) (SQLExecDirectW); [23000] [Microsoft][ODBC Driver 17 for SQL Server][SQL Server]The statement has been terminated. (3621)\")",
     "output_type": "error",
     "traceback": [
      "\u001b[1;31m---------------------------------------------------------------------------\u001b[0m",
      "\u001b[1;31mIntegrityError\u001b[0m                            Traceback (most recent call last)",
      "Cell \u001b[1;32mIn[57], line 1\u001b[0m\n\u001b[1;32m----> 1\u001b[0m cursor\u001b[38;5;241m.\u001b[39mexecute(\u001b[38;5;124m\"\u001b[39m\u001b[38;5;124mINSERT INTO citizen_addresses (AddressID, WorkerID, Street, City, State, Pincode) VALUES (4, 1, \u001b[39m\u001b[38;5;124m'\u001b[39m\u001b[38;5;124mNew MG Road\u001b[39m\u001b[38;5;124m'\u001b[39m\u001b[38;5;124m, \u001b[39m\u001b[38;5;124m'\u001b[39m\u001b[38;5;124mBangalore\u001b[39m\u001b[38;5;124m'\u001b[39m\u001b[38;5;124m, \u001b[39m\u001b[38;5;124m'\u001b[39m\u001b[38;5;124mKarnataka\u001b[39m\u001b[38;5;124m'\u001b[39m\u001b[38;5;124m, \u001b[39m\u001b[38;5;124m'\u001b[39m\u001b[38;5;124m560002\u001b[39m\u001b[38;5;124m'\u001b[39m\u001b[38;5;124m)\u001b[39m\u001b[38;5;124m\"\u001b[39m)\n\u001b[0;32m      2\u001b[0m conn\u001b[38;5;241m.\u001b[39mcommit()\n",
      "\u001b[1;31mIntegrityError\u001b[0m: ('23000', \"[23000] [Microsoft][ODBC Driver 17 for SQL Server][SQL Server]Violation of PRIMARY KEY constraint 'PK__citizen___091C2A1B091782C3'. Cannot insert duplicate key in object 'dbo.citizen_addresses'. The duplicate key value is (4). (2627) (SQLExecDirectW); [23000] [Microsoft][ODBC Driver 17 for SQL Server][SQL Server]The statement has been terminated. (3621)\")"
     ]
    }
   ],
   "source": [
    "cursor.execute(\"INSERT INTO citizen_addresses (AddressID, WorkerID, Street, City, State, Pincode) VALUES (4, 1, 'New MG Road', 'Bangalore', 'Karnataka', '560002')\")\n",
    "conn.commit()\n"
   ]
  },
  {
   "cell_type": "code",
   "execution_count": 58,
   "id": "d1dedacc-681a-48cd-b299-1e2a186a24c6",
   "metadata": {},
   "outputs": [
    {
     "name": "stdout",
     "output_type": "stream",
     "text": [
      "AddressID in use: 1\n",
      "AddressID in use: 2\n",
      "AddressID in use: 3\n",
      "AddressID in use: 4\n"
     ]
    }
   ],
   "source": [
    "cursor.execute(\"SELECT AddressID FROM citizen_addresses\")\n",
    "for row in cursor:\n",
    "    print(\"AddressID in use:\", row[0])\n"
   ]
  },
  {
   "cell_type": "code",
   "execution_count": null,
   "id": "db59d898-c364-48fe-99b1-9e13586605be",
   "metadata": {},
   "outputs": [],
   "source": [
    "cursor.execute(\"\"\"\n",
    "INSERT INTO citizen_addresses \n",
    "(AddressID, WorkerID, Street, City, State, Pincode) \n",
    "VALUES (5, 1, 'MG Layout', 'Bangalore', 'Karnataka', '560003')\n",
    "\"\"\")\n",
    "conn.commit()\n",
    "print(\" Inserted AddressID 5 successfully.\")\n"
   ]
  },
  {
   "cell_type": "code",
   "execution_count": 60,
   "id": "c6b08bdc-4d82-470e-8eef-08e6af2b5ddc",
   "metadata": {},
   "outputs": [
    {
     "name": "stdout",
     "output_type": "stream",
     "text": [
      "📋 Data from hexwarecitizens:\n",
      "(1, 'Alice Thomas', 'Data Analyst', 3)\n",
      "(2, 'Ravi Kumar', 'Backend Developer', 5)\n",
      "(3, 'Sara Lee', 'UI/UX Designer', 2)\n"
     ]
    }
   ],
   "source": [
    "cursor.execute(\"SELECT * FROM hexwarecitizens\")\n",
    "print(\"📋 Data from hexwarecitizens:\")\n",
    "for row in cursor:\n",
    "    print(row)\n"
   ]
  },
  {
   "cell_type": "code",
   "execution_count": 61,
   "id": "abbf7cb5-0054-4222-94df-392168e31b76",
   "metadata": {},
   "outputs": [
    {
     "name": "stdout",
     "output_type": "stream",
     "text": [
      "\n",
      "📋 Data from citizen_addresses:\n",
      "(1, 1, '123 MG Road', 'Bangalore', 'Karnataka', '560001')\n",
      "(2, 2, '45 Anna Salai', 'Chennai', 'Tamil Nadu', '600002')\n",
      "(3, 3, '7 Park Street', 'Kolkata', 'West Bengal', '700016')\n",
      "(4, 1, 'New MG Road', 'Bangalore', 'Karnataka', '560002')\n",
      "(5, 1, 'MG Layout', 'Bangalore', 'Karnataka', '560003')\n"
     ]
    }
   ],
   "source": [
    "cursor.execute(\"SELECT * FROM citizen_addresses\")\n",
    "print(\"\\n📋 Data from citizen_addresses:\")\n",
    "for row in cursor:\n",
    "    print(row)\n"
   ]
  },
  {
   "cell_type": "code",
   "execution_count": 62,
   "id": "c4768016-2bc1-4a81-a9fc-c88511c05de8",
   "metadata": {},
   "outputs": [
    {
     "name": "stdout",
     "output_type": "stream",
     "text": [
      "\n",
      "📋 Data from citizen_skills:\n",
      "(1, 1, 'SQL', 'Oracle Certified')\n",
      "(2, 2, 'Node.js', 'Udemy Full Stack')\n",
      "(3, 3, 'Figma', 'Coursera UI/UX')\n"
     ]
    }
   ],
   "source": [
    "cursor.execute(\"SELECT * FROM citizen_skills\")\n",
    "print(\"\\n📋 Data from citizen_skills:\")\n",
    "for row in cursor:\n",
    "    print(row)\n"
   ]
  },
  {
   "cell_type": "code",
   "execution_count": 63,
   "id": "d5a30fa1-a011-409e-9f3e-98eace6a2357",
   "metadata": {},
   "outputs": [
    {
     "name": "stdout",
     "output_type": "stream",
     "text": [
      "\n",
      "📋 Data from citizen_projects:\n",
      "(1, 1, 'Retail Dashboard', 'Data Analyst', 6)\n",
      "(2, 2, 'E-Commerce API', 'Backend Developer', 8)\n",
      "(3, 3, 'UX Revamp', 'UI Designer', 4)\n"
     ]
    }
   ],
   "source": [
    "cursor.execute(\"SELECT * FROM citizen_projects\")\n",
    "print(\"\\n📋 Data from citizen_projects:\")\n",
    "for row in cursor:\n",
    "    print(row)\n",
    "\n"
   ]
  },
  {
   "cell_type": "code",
   "execution_count": null,
   "id": "c345fa58-1379-418c-a8b4-0f85c39c4057",
   "metadata": {},
   "outputs": [],
   "source": [
    "\n",
    "\n",
    "\n"
   ]
  },
  {
   "cell_type": "code",
   "execution_count": null,
   "id": "0c1fbbb4-e3a8-4dd2-aeca-cbb92413a1cd",
   "metadata": {},
   "outputs": [],
   "source": []
  },
  {
   "cell_type": "markdown",
   "id": "3bb99af6-62f9-41b9-aaa5-51523ccbadf0",
   "metadata": {},
   "source": [
    "#  read data"
   ]
  },
  {
   "cell_type": "code",
   "execution_count": 64,
   "id": "39ce0b3c-f89f-4b54-9f15-e64b92a8807d",
   "metadata": {},
   "outputs": [
    {
     "name": "stdout",
     "output_type": "stream",
     "text": [
      "(1, 'Alice Thomas', 'Data Analyst', 3)\n",
      "(2, 'Ravi Kumar', 'Backend Developer', 5)\n",
      "(3, 'Sara Lee', 'UI/UX Designer', 2)\n"
     ]
    }
   ],
   "source": [
    "cursor.execute(\"SELECT * FROM hexwarecitizens\")\n",
    "for row in cursor:\n",
    "    print(row)\n"
   ]
  },
  {
   "cell_type": "code",
   "execution_count": null,
   "id": "3e510947-065c-42c5-80e1-b4606ebada18",
   "metadata": {},
   "outputs": [],
   "source": [
    "\n",
    "\n",
    "\n"
   ]
  },
  {
   "cell_type": "code",
   "execution_count": null,
   "id": "0fa53fea-2bb8-474e-8faa-82c0a0071304",
   "metadata": {},
   "outputs": [],
   "source": []
  },
  {
   "cell_type": "markdown",
   "id": "1ba4ed00-c33b-4991-9c9b-fc454a6d35bf",
   "metadata": {},
   "source": [
    "# update"
   ]
  },
  {
   "cell_type": "code",
   "execution_count": 67,
   "id": "30644a3b-ddda-42d6-8392-86d473cacdcf",
   "metadata": {},
   "outputs": [
    {
     "name": "stdout",
     "output_type": "stream",
     "text": [
      " Updated experience for WorkerID 1.\n"
     ]
    }
   ],
   "source": [
    "cursor.execute(\"\"\"\n",
    "UPDATE hexwarecitizens\n",
    "SET Experience = 6\n",
    "WHERE WorkerID = 1\n",
    "\"\"\")\n",
    "conn.commit()\n",
    "print(\" Updated experience for WorkerID 1.\")\n"
   ]
  },
  {
   "cell_type": "code",
   "execution_count": null,
   "id": "2ea98ce1-c256-43ab-887b-29e5cba10020",
   "metadata": {},
   "outputs": [],
   "source": []
  },
  {
   "cell_type": "code",
   "execution_count": 66,
   "id": "8a1d75cb-6956-4a08-b65e-09e9a2a0ec03",
   "metadata": {},
   "outputs": [
    {
     "name": "stdout",
     "output_type": "stream",
     "text": [
      "(1, 'Alice Thomas', 'Data Analyst', 6)\n"
     ]
    }
   ],
   "source": [
    "cursor.execute(\"SELECT * FROM hexwarecitizens WHERE WorkerID = 1\")\n",
    "for row in cursor:\n",
    "    print(row)\n"
   ]
  },
  {
   "cell_type": "code",
   "execution_count": null,
   "id": "e8273ae0-11e0-478d-aa36-0116502f2859",
   "metadata": {},
   "outputs": [],
   "source": []
  },
  {
   "cell_type": "code",
   "execution_count": null,
   "id": "52b20dba-b010-42ad-9b6b-18759ad05621",
   "metadata": {},
   "outputs": [],
   "source": []
  },
  {
   "cell_type": "markdown",
   "id": "afae8662-4b6d-4540-a76b-2a56eedcd63d",
   "metadata": {},
   "source": [
    "# delete"
   ]
  },
  {
   "cell_type": "code",
   "execution_count": 14,
   "id": "9c5c6576-497b-46ee-9b29-40ad10d73f7d",
   "metadata": {},
   "outputs": [
    {
     "name": "stdout",
     "output_type": "stream",
     "text": [
      " Table 'visitors_log' created.\n"
     ]
    }
   ],
   "source": [
    "cursor.execute(\"\"\"\n",
    "IF NOT EXISTS (\n",
    "    SELECT * FROM INFORMATION_SCHEMA.TABLES \n",
    "    WHERE TABLE_NAME = 'visitors_log'\n",
    ")\n",
    "BEGIN\n",
    "    CREATE TABLE visitors_log (\n",
    "        VisitorID INT PRIMARY KEY,\n",
    "        FullName VARCHAR(100),\n",
    "        VisitPurpose VARCHAR(100),\n",
    "        VisitDate DATE,\n",
    "        EntryTime TIME,\n",
    "        ExitTime TIME\n",
    "    )\n",
    "END\n",
    "\"\"\")\n",
    "conn.commit()\n",
    "print(\" Table 'visitors_log' created.\")\n"
   ]
  },
  {
   "cell_type": "code",
   "execution_count": 71,
   "id": "f2209c30-182d-4b78-a071-73e78156b0a7",
   "metadata": {},
   "outputs": [
    {
     "name": "stdout",
     "output_type": "stream",
     "text": [
      "✅ Sample data inserted into 'visitors_log'.\n"
     ]
    }
   ],
   "source": [
    "cursor.execute(\"\"\"\n",
    "INSERT INTO visitors_log (VisitorID, FullName, VisitPurpose, VisitDate, EntryTime, ExitTime)\n",
    "VALUES (1, 'Meera Joseph', 'Project Demo', '2025-06-24', '10:30:00', '11:45:00')\n",
    "\"\"\")\n",
    "\n",
    "cursor.execute(\"\"\"\n",
    "INSERT INTO visitors_log (VisitorID, FullName, VisitPurpose, VisitDate, EntryTime, ExitTime)\n",
    "VALUES (2, 'Rajeev Nair', 'Client Meeting', '2025-06-24', '09:00:00', '10:00:00')\n",
    "\"\"\")\n",
    "\n",
    "cursor.execute(\"\"\"\n",
    "INSERT INTO visitors_log (VisitorID, FullName, VisitPurpose, VisitDate, EntryTime, ExitTime)\n",
    "VALUES (3, 'Alok Sharma', 'Job Interview', '2025-06-24', '14:00:00', '14:45:00')\n",
    "\"\"\")\n",
    "\n",
    "conn.commit()\n",
    "print(\"✅ Sample data inserted into 'visitors_log'.\")\n"
   ]
  },
  {
   "cell_type": "code",
   "execution_count": 72,
   "id": "9bb7365b-1b64-467e-abad-618c2c39468f",
   "metadata": {},
   "outputs": [
    {
     "name": "stdout",
     "output_type": "stream",
     "text": [
      "✅ Visitor with ID 2 deleted.\n"
     ]
    }
   ],
   "source": [
    "cursor.execute(\"DELETE FROM visitors_log WHERE VisitorID = 2\")\n",
    "conn.commit()\n",
    "print(\"✅ Visitor with ID 2 deleted.\")\n"
   ]
  },
  {
   "cell_type": "code",
   "execution_count": 73,
   "id": "5ec0328d-2302-4032-b0a7-8a34e58eee3f",
   "metadata": {},
   "outputs": [
    {
     "name": "stdout",
     "output_type": "stream",
     "text": [
      "✅ All records deleted from 'visitors_log'.\n"
     ]
    }
   ],
   "source": [
    "cursor.execute(\"DELETE FROM visitors_log\")\n",
    "conn.commit()\n",
    "print(\"✅ All records deleted from 'visitors_log'.\")\n"
   ]
  },
  {
   "cell_type": "code",
   "execution_count": 74,
   "id": "2f614c67-c8a0-407f-bc61-4a4ab3ee0f19",
   "metadata": {},
   "outputs": [
    {
     "name": "stdout",
     "output_type": "stream",
     "text": [
      "📭 'visitors_log' is empty.\n"
     ]
    }
   ],
   "source": [
    "cursor.execute(\"SELECT * FROM visitors_log\")\n",
    "rows = cursor.fetchall()\n",
    "if not rows:\n",
    "    print(\"📭 'visitors_log' is empty.\")\n",
    "else:\n",
    "    for row in rows:\n",
    "        print(row)\n"
   ]
  },
  {
   "cell_type": "code",
   "execution_count": null,
   "id": "ef57c765-b4bf-483e-a825-cdde07b8e4eb",
   "metadata": {},
   "outputs": [],
   "source": []
  },
  {
   "cell_type": "markdown",
   "id": "5c611449-9de4-4d8b-a2ff-ef0c1b4395fd",
   "metadata": {},
   "source": [
    "# alter table"
   ]
  },
  {
   "cell_type": "code",
   "execution_count": 7,
   "id": "28ecaae8-76b2-46c3-a11f-d2143024513d",
   "metadata": {},
   "outputs": [
    {
     "name": "stdout",
     "output_type": "stream",
     "text": [
      "✅ Connected to hexwaredb\n"
     ]
    }
   ],
   "source": [
    "import pyodbc\n",
    "\n",
    "# Connect to your database\n",
    "conn = pyodbc.connect(\n",
    "    'DRIVER={ODBC Driver 17 for SQL Server};'\n",
    "    'SERVER=SAIBHAVANA\\\\SQLEXPRESS;'\n",
    "    'DATABASE=hexwaredb;'\n",
    "    'Trusted_Connection=yes;'\n",
    ")\n",
    "\n",
    "cursor = conn.cursor()\n",
    "print(\"✅ Connected to hexwaredb\")\n"
   ]
  },
  {
   "cell_type": "code",
   "execution_count": 3,
   "id": "33f5b244-82f4-4383-b42d-0125ea32f72e",
   "metadata": {},
   "outputs": [
    {
     "name": "stdout",
     "output_type": "stream",
     "text": [
      "✅ Column 'ContactNumber' added to 'visitors_log'.\n"
     ]
    }
   ],
   "source": [
    "cursor.execute(\"ALTER TABLE visitors_log ADD ContactNumber VARCHAR(15)\")\n",
    "conn.commit()\n",
    "print(\"✅ Column 'ContactNumber' added to 'visitors_log'.\")\n"
   ]
  },
  {
   "cell_type": "code",
   "execution_count": null,
   "id": "d57cdd13-8d83-4968-9b50-e70ca9e21e58",
   "metadata": {},
   "outputs": [],
   "source": []
  },
  {
   "cell_type": "markdown",
   "id": "1695112a-8997-4fe5-a626-b737f7c9e743",
   "metadata": {},
   "source": [
    "# queries"
   ]
  },
  {
   "cell_type": "code",
   "execution_count": null,
   "id": "55ad24fb-64f1-43ae-98f3-c1774b2682ba",
   "metadata": {},
   "outputs": [],
   "source": []
  },
  {
   "cell_type": "code",
   "execution_count": 5,
   "id": "363d82eb-69df-41da-b43b-dc0f586d9c9d",
   "metadata": {},
   "outputs": [],
   "source": []
  },
  {
   "cell_type": "code",
   "execution_count": 6,
   "id": "620eb75e-9aa2-4045-9594-f76dea57d629",
   "metadata": {},
   "outputs": [],
   "source": []
  },
  {
   "cell_type": "code",
   "execution_count": 11,
   "id": "a9b24b02-1b7d-4180-b204-a4fabaf20f1c",
   "metadata": {},
   "outputs": [
    {
     "name": "stdout",
     "output_type": "stream",
     "text": [
      " Citizens with their City and State:\n",
      "(1, 'Alice Thomas', 'Data Analyst', 'Bangalore', 'Karnataka')\n",
      "(2, 'Ravi Kumar', 'Backend Developer', 'Chennai', 'Tamil Nadu')\n",
      "(3, 'Sara Lee', 'UI/UX Designer', 'Kolkata', 'West Bengal')\n",
      "(1, 'Alice Thomas', 'Data Analyst', 'Bangalore', 'Karnataka')\n",
      "(1, 'Alice Thomas', 'Data Analyst', 'Bangalore', 'Karnataka')\n"
     ]
    }
   ],
   "source": [
    "cursor.execute(\"\"\"\n",
    "SELECT \n",
    "    c.WorkerID,\n",
    "    c.Name,\n",
    "    c.Skill,\n",
    "    a.City,\n",
    "    a.State\n",
    "FROM hexwarecitizens c\n",
    "JOIN citizen_addresses a ON c.WorkerID = a.WorkerID\n",
    "\"\"\")\n",
    "\n",
    "print(\" Citizens with their City and State:\")\n",
    "for row in cursor:\n",
    "    print(row)\n"
   ]
  },
  {
   "cell_type": "code",
   "execution_count": 9,
   "id": "8def9f38-ad34-4c75-ba8a-a949e2e93e11",
   "metadata": {
    "scrolled": true
   },
   "outputs": [
    {
     "name": "stdout",
     "output_type": "stream",
     "text": [
      " Citizens with >3 years experience:\n",
      "(1, 'Alice Thomas', 'Data Analyst', 6)\n",
      "(2, 'Ravi Kumar', 'Backend Developer', 5)\n"
     ]
    }
   ],
   "source": [
    "cursor.execute(\"\"\"\n",
    "SELECT * \n",
    "FROM hexwarecitizens\n",
    "WHERE Experience > 3\n",
    "\"\"\")\n",
    "\n",
    "print(\" Citizens with >3 years experience:\")\n",
    "for row in cursor:\n",
    "    print(row)\n"
   ]
  },
  {
   "cell_type": "code",
   "execution_count": 12,
   "id": "22cd9e2d-2f58-463e-85a4-34e0a2a1a949",
   "metadata": {},
   "outputs": [
    {
     "name": "stdout",
     "output_type": "stream",
     "text": [
      " Visitor counts per purpose:\n"
     ]
    }
   ],
   "source": [
    "cursor.execute(\"\"\"\n",
    "SELECT VisitPurpose, COUNT(*) AS TotalVisitors\n",
    "FROM visitors_log\n",
    "GROUP BY VisitPurpose\n",
    "\"\"\")\n",
    "\n",
    "print(\" Visitor counts per purpose:\")\n",
    "for row in cursor:\n",
    "    print(f\"{row.VisitPurpose}: {row.TotalVisitors}\")\n"
   ]
  },
  {
   "cell_type": "code",
   "execution_count": 13,
   "id": "cdb97755-8052-43f1-97ac-13ad55caf891",
   "metadata": {},
   "outputs": [
    {
     "name": "stdout",
     "output_type": "stream",
     "text": [
      "📋 All citizens:\n",
      "(1, 'Alice Thomas', 'Data Analyst', 6)\n",
      "(2, 'Ravi Kumar', 'Backend Developer', 5)\n",
      "(3, 'Sara Lee', 'UI/UX Designer', 2)\n"
     ]
    }
   ],
   "source": [
    "cursor.execute(\"SELECT * FROM hexwarecitizens\")\n",
    "print(\"📋 All citizens:\")\n",
    "for row in cursor:\n",
    "    print(row)\n"
   ]
  },
  {
   "cell_type": "code",
   "execution_count": null,
   "id": "4a5f0ad4-1509-4db4-9d5e-4257ee7ffabd",
   "metadata": {},
   "outputs": [],
   "source": []
  }
 ],
 "metadata": {
  "kernelspec": {
   "display_name": "Python 3 (ipykernel)",
   "language": "python",
   "name": "python3"
  },
  "language_info": {
   "codemirror_mode": {
    "name": "ipython",
    "version": 3
   },
   "file_extension": ".py",
   "mimetype": "text/x-python",
   "name": "python",
   "nbconvert_exporter": "python",
   "pygments_lexer": "ipython3",
   "version": "3.12.7"
  }
 },
 "nbformat": 4,
 "nbformat_minor": 5
}
