{
 "cells": [
  {
   "cell_type": "code",
   "execution_count": 1,
   "id": "f4811a64-014a-4410-8487-6dffdc3ba05a",
   "metadata": {},
   "outputs": [
    {
     "name": "stdout",
     "output_type": "stream",
     "text": [
      "Defaulting to user installation because normal site-packages is not writeable\n",
      "Requirement already satisfied: openpyxl in c:\\programdata\\anaconda3\\lib\\site-packages (3.1.5)\n",
      "Requirement already satisfied: et-xmlfile in c:\\programdata\\anaconda3\\lib\\site-packages (from openpyxl) (1.1.0)\n"
     ]
    }
   ],
   "source": [
    "!pip install openpyxl\n"
   ]
  },
  {
   "cell_type": "code",
   "execution_count": 5,
   "id": "3d3b621a-559f-42f0-85f1-fa63978055dc",
   "metadata": {},
   "outputs": [
    {
     "name": "stdout",
     "output_type": "stream",
     "text": [
      "Excel file written successfully.\n"
     ]
    }
   ],
   "source": [
    "from openpyxl import Workbook\n",
    "\n",
    "wb = Workbook(write_only=True)  # Efficient for large files\n",
    "ws = wb.create_sheet()\n",
    "\n",
    "for i in range(1, 100):  # 1 million rows\n",
    "    ws.append([f\"Row {i}\", f\"Data {i}\"])\n",
    "\n",
    "wb.save(\"write_only_huge_data.xlsx\")\n",
    "print(\"Excel file written successfully.\")\n"
   ]
  },
  {
   "cell_type": "code",
   "execution_count": null,
   "id": "25a8c5cf-a8ea-4237-bfb9-6a8403956da4",
   "metadata": {},
   "outputs": [],
   "source": []
  },
  {
   "cell_type": "code",
   "execution_count": 6,
   "id": "6c4dc173-fb51-42db-961c-2f4698d0c074",
   "metadata": {},
   "outputs": [
    {
     "name": "stdout",
     "output_type": "stream",
     "text": [
      "('Row 1', 'Data 1')\n",
      "('Row 2', 'Data 2')\n",
      "('Row 3', 'Data 3')\n",
      "('Row 4', 'Data 4')\n",
      "('Row 5', 'Data 5')\n",
      "('Row 6', 'Data 6')\n",
      "('Row 7', 'Data 7')\n",
      "('Row 8', 'Data 8')\n",
      "('Row 9', 'Data 9')\n",
      "('Row 10', 'Data 10')\n"
     ]
    }
   ],
   "source": [
    "from openpyxl import load_workbook\n",
    "\n",
    "wb = load_workbook(\"write_only_huge_data.xlsx\", read_only=True)\n",
    "ws = wb.active\n",
    "\n",
    "for row in ws.iter_rows(min_row=1, max_row=10, max_col=2, values_only=True):\n",
    "    print(row)\n"
   ]
  },
  {
   "cell_type": "code",
   "execution_count": null,
   "id": "f4456b30-9003-438b-8536-52f057d177ce",
   "metadata": {},
   "outputs": [],
   "source": []
  },
  {
   "cell_type": "code",
   "execution_count": 7,
   "id": "d5eed9ed-3024-45ab-96d2-9cc9679ca134",
   "metadata": {},
   "outputs": [
    {
     "name": "stdout",
     "output_type": "stream",
     "text": [
      "The file was not found.\n"
     ]
    }
   ],
   "source": [
    "import json\n",
    "\n",
    "try:\n",
    "    with open('data.json', 'r') as file:\n",
    "        data = json.load(file)\n",
    "    print(data)\n",
    "except FileNotFoundError:\n",
    "    print(\"The file was not found.\")\n",
    "except json.JSONDecodeError:\n",
    "    print(\"Invalid JSON format.\")\n"
   ]
  },
  {
   "cell_type": "code",
   "execution_count": null,
   "id": "a5aa01d1-f742-4af9-a507-e43902c31b27",
   "metadata": {},
   "outputs": [],
   "source": []
  },
  {
   "cell_type": "code",
   "execution_count": 8,
   "id": "ab3925b8-7618-42e4-bec8-af75f1667eab",
   "metadata": {},
   "outputs": [
    {
     "name": "stdout",
     "output_type": "stream",
     "text": [
      "JSON file written successfully.\n"
     ]
    }
   ],
   "source": [
    "data = {\n",
    "    \"name\": \"Alice\",\n",
    "    \"age\": 25,\n",
    "    \"city\": \"Boston\",\n",
    "    \"skills\": [\"Python\", \"SQL\", \"ML\"]\n",
    "}\n",
    "\n",
    "with open('output.json', 'w') as file:\n",
    "    json.dump(data, file, indent=4)\n",
    "\n",
    "print(\"JSON file written successfully.\")\n"
   ]
  },
  {
   "cell_type": "code",
   "execution_count": 9,
   "id": "70a45722-3ae3-4f20-b63c-a1c5fc9daa4c",
   "metadata": {},
   "outputs": [
    {
     "name": "stdout",
     "output_type": "stream",
     "text": [
      "{'name': 'John', 'age': 30, 'city': 'New York'}\n"
     ]
    }
   ],
   "source": [
    "json_string = '{\"name\": \"John\", \"age\": 30, \"city\": \"New York\"}'\n",
    "data = json.loads(json_string)\n",
    "print(data)\n"
   ]
  },
  {
   "cell_type": "code",
   "execution_count": null,
   "id": "47c230fd-12d6-48d9-ad61-587822f268e6",
   "metadata": {},
   "outputs": [],
   "source": []
  },
  {
   "cell_type": "code",
   "execution_count": 10,
   "id": "87939bee-c69e-4aa0-826d-448c5a5bc404",
   "metadata": {},
   "outputs": [
    {
     "data": {
      "text/plain": [
       "['.anaconda',\n",
       " '.bash_history',\n",
       " '.conda',\n",
       " '.condarc',\n",
       " '.continuum',\n",
       " '.git',\n",
       " '.gitconfig',\n",
       " '.ipynb_checkpoints',\n",
       " '.ipython',\n",
       " '.jupyter',\n",
       " '.matplotlib',\n",
       " '.node_repl_history',\n",
       " '.viminfo',\n",
       " '.virtual_documents',\n",
       " '.vscode',\n",
       " 'anaconda_projects',\n",
       " 'AppData',\n",
       " 'Application Data',\n",
       " 'class and oject.ipynb',\n",
       " 'cmd',\n",
       " 'Contacts',\n",
       " 'Cookies',\n",
       " 'dataset111.csv',\n",
       " 'day8 python.ipynb',\n",
       " 'day9.ipynb',\n",
       " 'Desktop',\n",
       " 'Documents',\n",
       " 'Downloads',\n",
       " 'encapsulation,polymorphism.ipynb',\n",
       " 'Favorites',\n",
       " 'FINAL PAYMENT_DAY_PREDICTION (2) (1).ipynb',\n",
       " 'FINAL PAYMENT_DAY_PREDICTION (2).ipynb',\n",
       " 'functions.ipynb',\n",
       " 'label_encoders.pkl',\n",
       " 'Links',\n",
       " 'Local Settings',\n",
       " 'Music',\n",
       " 'My Documents',\n",
       " 'NetHood',\n",
       " 'NTUSER.DAT',\n",
       " 'ntuser.dat.LOG1',\n",
       " 'ntuser.dat.LOG2',\n",
       " 'NTUSER.DAT{a2332f18-cdbf-11ec-8680-002248483d79}.TM.blf',\n",
       " 'NTUSER.DAT{a2332f18-cdbf-11ec-8680-002248483d79}.TMContainer00000000000000000001.regtrans-ms',\n",
       " 'NTUSER.DAT{a2332f18-cdbf-11ec-8680-002248483d79}.TMContainer00000000000000000002.regtrans-ms',\n",
       " 'ntuser.ini',\n",
       " 'OneDrive',\n",
       " 'oops in 1prgm.ipynb',\n",
       " 'oops.ipynb',\n",
       " 'output.json',\n",
       " 'package-lock.json',\n",
       " 'PALAKONDA_VENKATA_REVANTH_REDDY_PAYMENT_DAY_PREDICTION (1) (1).ipynb',\n",
       " 'PALAKONDA_VENKATA_REVANTH_REDDY_PAYMENT_DAY_PREDICTION (2).ipynb',\n",
       " 'PALAKONDA_VENKATA_REVANTH_REDDY_PAYMENT_DAY_PREDICTION.csv',\n",
       " 'PAYEMENT PREDICTION using ml.ipynb',\n",
       " 'PAYEMENT PREDICTION.ipynb',\n",
       " 'Payment_Date_Prediction.ipynb',\n",
       " 'PAYMENT_DAY_PREDICTION.csv',\n",
       " 'payment_prediction_model.pkl',\n",
       " 'practice.ipynb',\n",
       " 'Predicted_Payment_Dates.csv',\n",
       " 'PrintHood',\n",
       " 'Recent',\n",
       " 'Saved Games',\n",
       " 'Searches',\n",
       " 'SendTo',\n",
       " 'Source',\n",
       " 'Start Menu',\n",
       " 'Templates',\n",
       " 'Untitled payement.ipynb',\n",
       " 'Untitled.ipynb',\n",
       " 'Untitled1.ipynb',\n",
       " 'Untitled10.ipynb',\n",
       " 'Untitled11.ipynb',\n",
       " 'Untitled12.ipynb',\n",
       " 'Untitled13.ipynb',\n",
       " 'Untitled2.ipynb',\n",
       " 'Untitled3.ipynb',\n",
       " 'Untitled4.ipynb',\n",
       " 'Untitled5.ipynb',\n",
       " 'Untitled6.ipynb',\n",
       " 'Untitled7.ipynb',\n",
       " 'Untitled8.ipynb',\n",
       " 'Untitled9.ipynb',\n",
       " 'Videos',\n",
       " 'workspace',\n",
       " 'write_only_huge_data.xlsx']"
      ]
     },
     "execution_count": 10,
     "metadata": {},
     "output_type": "execute_result"
    }
   ],
   "source": [
    "import os\n",
    "os.listdir()\n"
   ]
  },
  {
   "cell_type": "code",
   "execution_count": 11,
   "id": "8b0b4a0d-00d5-4b03-99c5-d22666138269",
   "metadata": {},
   "outputs": [
    {
     "name": "stdout",
     "output_type": "stream",
     "text": [
      "C:\\Users\\SYS\\output.json\n"
     ]
    }
   ],
   "source": [
    "import os\n",
    "print(os.path.abspath(\"output.json\"))\n"
   ]
  },
  {
   "cell_type": "code",
   "execution_count": 12,
   "id": "4fcb62a0-0eb4-4d22-9c67-27cb91436f8d",
   "metadata": {},
   "outputs": [
    {
     "name": "stdout",
     "output_type": "stream",
     "text": [
      "{\n",
      "    \"name\": \"Alice\",\n",
      "    \"age\": 25,\n",
      "    \"city\": \"Boston\",\n",
      "    \"skills\": [\n",
      "        \"Python\",\n",
      "        \"SQL\",\n",
      "        \"ML\"\n",
      "    ]\n",
      "}\n"
     ]
    }
   ],
   "source": [
    "with open('output.json', 'r') as file:\n",
    "    content = file.read()\n",
    "    print(content)\n"
   ]
  },
  {
   "cell_type": "code",
   "execution_count": null,
   "id": "45e26870-ff82-4ee7-9f4a-e593412d8ee7",
   "metadata": {},
   "outputs": [],
   "source": []
  },
  {
   "cell_type": "code",
   "execution_count": null,
   "id": "d98ce2d3-078f-4529-9940-134553b5eefe",
   "metadata": {},
   "outputs": [],
   "source": []
  },
  {
   "cell_type": "code",
   "execution_count": null,
   "id": "4d64df69-bfa9-4446-8ec8-ef2fa29bce65",
   "metadata": {},
   "outputs": [],
   "source": []
  },
  {
   "cell_type": "code",
   "execution_count": 13,
   "id": "25a660ca-e111-417a-94e3-016a6e04746e",
   "metadata": {},
   "outputs": [
    {
     "name": "stdout",
     "output_type": "stream",
     "text": [
      "CSV file written successfully.\n"
     ]
    }
   ],
   "source": [
    "import csv\n",
    "\n",
    "data = [\n",
    "    ['Name', 'Age', 'City'],\n",
    "    ['Alice', 28, 'Boston'],\n",
    "    ['Bob', 35, 'San Francisco']\n",
    "]\n",
    "\n",
    "with open('output.csv', 'w', newline='') as file:\n",
    "    csv_writer = csv.writer(file)\n",
    "    csv_writer.writerows(data)\n",
    "\n",
    "print(\"CSV file written successfully.\")\n"
   ]
  },
  {
   "cell_type": "code",
   "execution_count": 14,
   "id": "61bdb0c1-c7d0-41f4-945b-59e3bcc643dc",
   "metadata": {},
   "outputs": [
    {
     "name": "stdout",
     "output_type": "stream",
     "text": [
      "['Name', 'Age', 'City']\n",
      "['Alice', '28', 'Boston']\n",
      "['Bob', '35', 'San Francisco']\n"
     ]
    }
   ],
   "source": [
    "with open('output.csv', 'r') as file:\n",
    "    csv_reader = csv.reader(file)\n",
    "    for row in csv_reader:\n",
    "        print(row)\n"
   ]
  },
  {
   "cell_type": "code",
   "execution_count": 15,
   "id": "9e1231c2-f693-4671-aa22-abe1bacd6ff1",
   "metadata": {},
   "outputs": [
    {
     "name": "stdout",
     "output_type": "stream",
     "text": [
      "C:\\Users\\SYS\n"
     ]
    }
   ],
   "source": [
    "import os\n",
    "print(os.getcwd())\n"
   ]
  },
  {
   "cell_type": "code",
   "execution_count": 16,
   "id": "4259d23e-de20-4f2d-ab96-26b1687bf784",
   "metadata": {},
   "outputs": [],
   "source": [
    "with open('output.csv', 'w', newline='') as file:\n",
    "    csv_writer = csv.writer(file)\n",
    "    csv_writer.writerows(data)\n"
   ]
  },
  {
   "cell_type": "code",
   "execution_count": null,
   "id": "e9d1a5cd-5a12-4eb4-976f-bea10152bee2",
   "metadata": {},
   "outputs": [],
   "source": []
  },
  {
   "cell_type": "code",
   "execution_count": 18,
   "id": "48a7bf74-45d1-446c-9188-2d30c0fec8d4",
   "metadata": {},
   "outputs": [
    {
     "name": "stdout",
     "output_type": "stream",
     "text": [
      "Defaulting to user installation because normal site-packages is not writeable\n",
      "Requirement already satisfied: beautifulsoup4 in c:\\programdata\\anaconda3\\lib\\site-packages (4.12.3)\n",
      "Requirement already satisfied: soupsieve>1.2 in c:\\programdata\\anaconda3\\lib\\site-packages (from beautifulsoup4) (2.5)\n"
     ]
    }
   ],
   "source": [
    "!pip install beautifulsoup4\n"
   ]
  },
  {
   "cell_type": "code",
   "execution_count": 22,
   "id": "cce5e93f-1e1d-4dd8-807e-ba1ad76b4f3e",
   "metadata": {},
   "outputs": [
    {
     "name": "stdout",
     "output_type": "stream",
     "text": [
      "data Alice\n",
      "25\n",
      "Boston\n",
      "person Alice\n",
      "25\n",
      "Boston\n",
      "name Alice\n",
      "age 25\n",
      "city Boston\n"
     ]
    }
   ],
   "source": [
    "from bs4 import BeautifulSoup\n",
    "\n",
    "with open('sample.xml', 'r', encoding='utf-8') as file:\n",
    "    xml_data = file.read()\n",
    "\n",
    "soup = BeautifulSoup(xml_data, 'xml')\n",
    "\n",
    "# Print all tags\n",
    "for tag in soup.find_all():\n",
    "    print(tag.name, tag.text.strip())\n"
   ]
  },
  {
   "cell_type": "code",
   "execution_count": 21,
   "id": "509c9798-4780-4dea-ab44-e28d1db29895",
   "metadata": {},
   "outputs": [
    {
     "name": "stdout",
     "output_type": "stream",
     "text": [
      "sample.xml created.\n"
     ]
    }
   ],
   "source": [
    "xml_content = \"\"\"<?xml version=\"1.0\"?>\n",
    "<data>\n",
    "    <person>\n",
    "        <name>Alice</name>\n",
    "        <age>25</age>\n",
    "        <city>Boston</city>\n",
    "    </person>\n",
    "</data>\n",
    "\"\"\"\n",
    "\n",
    "with open('sample.xml', 'w', encoding='utf-8') as file:\n",
    "    file.write(xml_content)\n",
    "\n",
    "print(\"sample.xml created.\")\n"
   ]
  },
  {
   "cell_type": "code",
   "execution_count": 23,
   "id": "227f6666-c028-4b61-95bd-e25b3d16ce9e",
   "metadata": {},
   "outputs": [
    {
     "name": "stdout",
     "output_type": "stream",
     "text": [
      "XML file written successfully.\n"
     ]
    }
   ],
   "source": [
    "xml_content = \"\"\"<?xml version=\"1.0\"?>\n",
    "<data>\n",
    "    <person>\n",
    "        <name>Alice</name>\n",
    "        <age>25</age>\n",
    "        <city>Boston</city>\n",
    "    </person>\n",
    "</data>\n",
    "\"\"\"\n",
    "\n",
    "with open('output.xml', 'w', encoding='utf-8') as file:\n",
    "    file.write(xml_content)\n",
    "\n",
    "print(\"XML file written successfully.\")\n"
   ]
  },
  {
   "cell_type": "code",
   "execution_count": 24,
   "id": "48072c5a-ea8d-426c-acf4-3dbc1d7ef87c",
   "metadata": {},
   "outputs": [
    {
     "name": "stdout",
     "output_type": "stream",
     "text": [
      "<?xml version=\"1.0\"?>\n",
      "<data>\n",
      "    <person>\n",
      "        <name>Alice</name>\n",
      "        <age>25</age>\n",
      "        <city>Boston</city>\n",
      "    </person>\n",
      "</data>\n",
      "\n"
     ]
    }
   ],
   "source": [
    "with open('sample.xml', 'r', encoding='utf-8') as file:\n",
    "    print(file.read())\n"
   ]
  },
  {
   "cell_type": "code",
   "execution_count": null,
   "id": "289f4873-7185-4951-8c87-059bf92e6df6",
   "metadata": {},
   "outputs": [],
   "source": []
  }
 ],
 "metadata": {
  "kernelspec": {
   "display_name": "Python 3 (ipykernel)",
   "language": "python",
   "name": "python3"
  },
  "language_info": {
   "codemirror_mode": {
    "name": "ipython",
    "version": 3
   },
   "file_extension": ".py",
   "mimetype": "text/x-python",
   "name": "python",
   "nbconvert_exporter": "python",
   "pygments_lexer": "ipython3",
   "version": "3.12.7"
  }
 },
 "nbformat": 4,
 "nbformat_minor": 5
}
