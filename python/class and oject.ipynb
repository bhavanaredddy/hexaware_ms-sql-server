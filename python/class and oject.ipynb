{
 "cells": [
  {
   "cell_type": "code",
   "execution_count": null,
   "id": "12535539-8944-4128-9ae5-d3654f2ccab9",
   "metadata": {},
   "outputs": [],
   "source": [
    "#class and object"
   ]
  },
  {
   "cell_type": "code",
   "execution_count": 5,
   "id": "c6ccdfa9-6554-48e3-9a6e-7a80bd44324c",
   "metadata": {},
   "outputs": [
    {
     "name": "stdout",
     "output_type": "stream",
     "text": [
      "Employee Chara added.\n",
      "Employee Bala added.\n",
      "Employee Vishnu added.\n",
      "{'id': 2, 'name': 'Bala', 'salary': 60000}\n",
      "[{'id': 1, 'name': 'Chara', 'salary': 50000}, {'id': 2, 'name': 'Bala', 'salary': 60000}]\n"
     ]
    }
   ],
   "source": [
    "class EmployeeManager:\n",
    "    def __init__(self):\n",
    "        self.employees = []  # List to store employee dictionaries\n",
    "\n",
    "    def add_employee(self, emp_id, name, salary):\n",
    "        \"\"\"Adds a new employee.\"\"\"\n",
    "        self.employees.append({\"id\": emp_id, \"name\": name, \"salary\": salary})\n",
    "        print(f\"Employee {name} added.\")\n",
    "\n",
    "    def get_employee(self, emp_id):\n",
    "        \"\"\"Fetch employee details by ID.\"\"\"\n",
    "        for employee in self.employees:\n",
    "            if employee[\"id\"] == emp_id:\n",
    "                return employee\n",
    "        return f\"No employee found with ID {emp_id}\"\n",
    "\n",
    "    def get_high_salary_employees(self, min_salary):\n",
    "        \"\"\"Filter employees with a salary above the threshold.\"\"\"\n",
    "        return [emp for emp in self.employees if emp[\"salary\"] > min_salary]\n",
    "\n",
    "\n",
    "# Using the class\n",
    "manager = EmployeeManager()\n",
    "manager.add_employee(1, \"Chara\", 50000)\n",
    "manager.add_employee(2, \"Bala\", 60000)\n",
    "manager.add_employee(3, \"Vishnu\", 40000)\n",
    "\n",
    "print(manager.get_employee(2)) \n",
    "high_salary = manager.get_high_salary_employees(45000)\n",
    "print(high_salary)\n"
   ]
  },
  {
   "cell_type": "code",
   "execution_count": 4,
   "id": "4ef5e837-16b0-4500-9645-5c9555e98c77",
   "metadata": {},
   "outputs": [
    {
     "name": "stdout",
     "output_type": "stream",
     "text": [
      "Added product: Laptop\n",
      "Added product: Mouse\n",
      "Added product: Keyboard\n",
      "{'name': 'Mouse', 'quantity': 50, 'price': 500}\n",
      "{103: {'name': 'Keyboard', 'quantity': 5, 'price': 1500}}\n"
     ]
    }
   ],
   "source": [
    "class Inventory:\n",
    "    def __init__(self):\n",
    "        self.products = {}\n",
    "\n",
    "    def add_product(self, product_id, name, quantity, price):\n",
    "        \"\"\"Adds or updates a product.\"\"\"\n",
    "        if product_id in self.products:\n",
    "            self.products[product_id][\"quantity\"] += quantity\n",
    "            print(f\"Updated {name}: New quantity is {self.products[product_id]['quantity']}\")\n",
    "        else:\n",
    "            self.products[product_id] = {\"name\": name, \"quantity\": quantity, \"price\": price}\n",
    "            print(f\"Added product: {name}\")\n",
    "\n",
    "    def get_product(self, product_id):\n",
    "        \"\"\"Get details of a specific product.\"\"\"\n",
    "        return self.products.get(product_id, \"Product not found\")\n",
    "\n",
    "    def get_low_stock(self, threshold):\n",
    "        \"\"\"Get products with stock below a threshold.\"\"\"\n",
    "        return {pid: data for pid, data in self.products.items() if data[\"quantity\"] < threshold}\n",
    "\n",
    "\n",
    "# Using the class\n",
    "inventory = Inventory()\n",
    "inventory.add_product(101, \"Laptop\", 10, 70000)\n",
    "inventory.add_product(102, \"Mouse\", 50, 500)\n",
    "inventory.add_product(103, \"Keyboard\", 5, 1500)\n",
    "\n",
    "print(inventory.get_product(102))\n",
    "low_stock = inventory.get_low_stock(10)\n",
    "print(low_stock)\n"
   ]
  },
  {
   "cell_type": "code",
   "execution_count": null,
   "id": "f98b5238-99fe-4a78-9a75-fa0f3495b499",
   "metadata": {},
   "outputs": [],
   "source": []
  },
  {
   "cell_type": "code",
   "execution_count": 3,
   "id": "38d59269-f45d-452e-a4fb-749c1490eb82",
   "metadata": {},
   "outputs": [
    {
     "name": "stdout",
     "output_type": "stream",
     "text": [
      "Book 'Python Programming' added.\n",
      "Book 'Data Structures' added.\n",
      "You borrowed 'Python Programming'\n",
      "[{'title': 'Data Structures', 'author': 'Bala', 'available': True}]\n"
     ]
    }
   ],
   "source": [
    "class Library:\n",
    "    def __init__(self):\n",
    "        self.books = []  # List of dictionaries: [{\"title\": str, \"author\": str, \"available\": bool}]\n",
    "\n",
    "    def add_book(self, title, author):\n",
    "        \"\"\"Add a new book to the library.\"\"\"\n",
    "        self.books.append({\"title\": title, \"author\": author, \"available\": True})\n",
    "        print(f\"Book '{title}' added.\")\n",
    "\n",
    "    def borrow_book(self, title):\n",
    "        \"\"\"Borrow a book if available.\"\"\"\n",
    "        for book in self.books:\n",
    "            if book[\"title\"] == title:\n",
    "                if book[\"available\"]:\n",
    "                    book[\"available\"] = False\n",
    "                    print(f\"You borrowed '{title}'\")\n",
    "                    return\n",
    "                else:\n",
    "                    print(f\"'{title}' is currently unavailable.\")\n",
    "                    return\n",
    "        print(f\"Book '{title}' not found.\")\n",
    "\n",
    "    def get_available_books(self):\n",
    "        \"\"\"List all available books.\"\"\"\n",
    "        return [book for book in self.books if book[\"available\"]]\n",
    "\n",
    "\n",
    "# Using the class\n",
    "library = Library()\n",
    "library.add_book(\"Python Programming\", \"Madan\")\n",
    "library.add_book(\"Data Structures\", \"Bala\")\n",
    "\n",
    "library.borrow_book(\"Python Programming\")\n",
    "print(library.get_available_books())\n"
   ]
  },
  {
   "cell_type": "code",
   "execution_count": null,
   "id": "ec4c1a2e-a0af-4076-8ea8-429a24f55025",
   "metadata": {},
   "outputs": [],
   "source": []
  },
  {
   "cell_type": "code",
   "execution_count": 2,
   "id": "a710602e-c500-42a3-aa31-c51d939c878c",
   "metadata": {},
   "outputs": [
    {
     "name": "stdout",
     "output_type": "stream",
     "text": [
      "Sale added: Laptop x 3 for 210000\n",
      "Sale added: Smartphone x 5 for 150000\n",
      "\n",
      "Sales Report:\n",
      "Laptop: 3 units - 210000 total\n",
      "Smartphone: 5 units - 150000 total\n",
      "\n",
      "Total Sales: 360000\n"
     ]
    }
   ],
   "source": [
    "class Product:\n",
    "    \"\"\"Base class to represent a product.\"\"\"\n",
    "    def __init__(self, product_id, name, price):\n",
    "        self.product_id = product_id\n",
    "        self.name = name\n",
    "        self.price = price\n",
    "\n",
    "    def get_details(self):\n",
    "        \"\"\"Get product details.\"\"\"\n",
    "        return f\"Product ID: {self.product_id}, Name: {self.name}, Price: {self.price}\"\n",
    "\n",
    "\n",
    "class Sales:\n",
    "    \"\"\"Class to track sales of products.\"\"\"\n",
    "    def __init__(self):\n",
    "        self.sales = []  # List to store sales records\n",
    "\n",
    "    def add_sale(self, product, quantity):\n",
    "        \"\"\"Add a sale record.\"\"\"\n",
    "        total_price = product.price * quantity\n",
    "        self.sales.append({\"product\": product, \"quantity\": quantity, \"total_price\": total_price})\n",
    "        print(f\"Sale added: {product.name} x {quantity} for {total_price}\")\n",
    "\n",
    "    def get_total_sales(self):\n",
    "        \"\"\"Calculate total sales amount.\"\"\"\n",
    "        return sum(sale[\"total_price\"] for sale in self.sales)\n",
    "\n",
    "    def get_sales_report(self):\n",
    "        \"\"\"Generate sales report.\"\"\"\n",
    "        report = \"Sales Report:\\n\"\n",
    "        for sale in self.sales:\n",
    "            report += f\"{sale['product'].name}: {sale['quantity']} units - {sale['total_price']} total\\n\"\n",
    "        return report\n",
    "\n",
    "\n",
    "# Main program\n",
    "if __name__ == \"__main__\":\n",
    "    # Create products\n",
    "    product1 = Product(1, \"Laptop\", 70000)\n",
    "    product2 = Product(2, \"Smartphone\", 30000)\n",
    "\n",
    "    # Create sales tracker\n",
    "    sales_tracker = Sales()\n",
    "\n",
    "    # Add sales\n",
    "    sales_tracker.add_sale(product1, 3)\n",
    "    sales_tracker.add_sale(product2, 5)\n",
    "\n",
    "    # Display sales report and total sales\n",
    "    print(\"\\n\" + sales_tracker.get_sales_report())\n",
    "    print(f\"Total Sales: {sales_tracker.get_total_sales()}\")\n"
   ]
  },
  {
   "cell_type": "code",
   "execution_count": null,
   "id": "0b876906-bcf9-4d11-b404-5816ef93358e",
   "metadata": {},
   "outputs": [],
   "source": []
  }
 ],
 "metadata": {
  "kernelspec": {
   "display_name": "Python 3 (ipykernel)",
   "language": "python",
   "name": "python3"
  },
  "language_info": {
   "codemirror_mode": {
    "name": "ipython",
    "version": 3
   },
   "file_extension": ".py",
   "mimetype": "text/x-python",
   "name": "python",
   "nbconvert_exporter": "python",
   "pygments_lexer": "ipython3",
   "version": "3.12.7"
  }
 },
 "nbformat": 4,
 "nbformat_minor": 5
}
