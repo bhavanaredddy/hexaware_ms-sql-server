{
 "cells": [
  {
   "cell_type": "code",
   "execution_count": null,
   "id": "9b8ffa01-6166-4db5-b393-564eaee81c69",
   "metadata": {},
   "outputs": [],
   "source": [
    "# data structures"
   ]
  },
  {
   "cell_type": "code",
   "execution_count": null,
   "id": "37b6f989-1d28-4f37-a3ad-49d3198952c2",
   "metadata": {},
   "outputs": [],
   "source": [
    "#list"
   ]
  },
  {
   "cell_type": "code",
   "execution_count": 7,
   "id": "421e162a-0900-4740-8350-3445f0719d17",
   "metadata": {},
   "outputs": [],
   "source": [
    "sports=['cricket','tennis','basketball','carrom','ruby']"
   ]
  },
  {
   "cell_type": "code",
   "execution_count": 8,
   "id": "d518221a-8f95-46c0-bfd9-ab56a3a66dd2",
   "metadata": {},
   "outputs": [
    {
     "name": "stdout",
     "output_type": "stream",
     "text": [
      "['cricket', 'tennis', 'basketball', 'carrom', 'ruby']\n"
     ]
    }
   ],
   "source": [
    "print(sports)"
   ]
  },
  {
   "cell_type": "code",
   "execution_count": 10,
   "id": "e4fef88d-86d6-479e-8b10-250fc2cbeffe",
   "metadata": {},
   "outputs": [],
   "source": [
    "sports[1]=\"hockey\""
   ]
  },
  {
   "cell_type": "code",
   "execution_count": 11,
   "id": "633bf0dd-5313-4a2f-b10f-7ff6c936b5b9",
   "metadata": {},
   "outputs": [
    {
     "name": "stdout",
     "output_type": "stream",
     "text": [
      "['cricket', 'hockey', 'basketball', 'carrom', 'ruby']\n"
     ]
    }
   ],
   "source": [
    "print(sports)"
   ]
  },
  {
   "cell_type": "code",
   "execution_count": 12,
   "id": "9f0f35ec-ab31-4506-925a-e34799cc4f84",
   "metadata": {},
   "outputs": [],
   "source": [
    "sports[3]=9.6"
   ]
  },
  {
   "cell_type": "code",
   "execution_count": 13,
   "id": "0eff49c3-3f46-4e6a-8574-f1125adc0e25",
   "metadata": {},
   "outputs": [
    {
     "name": "stdout",
     "output_type": "stream",
     "text": [
      "['cricket', 'hockey', 'basketball', 9.6, 'ruby']\n"
     ]
    }
   ],
   "source": [
    "print(sports)"
   ]
  },
  {
   "cell_type": "code",
   "execution_count": 14,
   "id": "f4e68f32-52cf-4143-b368-13e4ca22165e",
   "metadata": {},
   "outputs": [],
   "source": [
    "sports.append('game')"
   ]
  },
  {
   "cell_type": "code",
   "execution_count": 15,
   "id": "51344651-23b9-4d17-8769-8d216749d89d",
   "metadata": {},
   "outputs": [
    {
     "name": "stdout",
     "output_type": "stream",
     "text": [
      "['cricket', 'hockey', 'basketball', 9.6, 'ruby', 'game']\n"
     ]
    }
   ],
   "source": [
    "print(sports)"
   ]
  },
  {
   "cell_type": "code",
   "execution_count": 19,
   "id": "0177acf4-1fd3-4314-bb70-1f9d15df1fb2",
   "metadata": {},
   "outputs": [
    {
     "name": "stdout",
     "output_type": "stream",
     "text": [
      "['cricket', 'hockey', 'basketball', 'swimming', 'ruby', 'game']\n"
     ]
    }
   ],
   "source": [
    "for i in range(len(sports)):\n",
    "    if sports[i]==9.6:\n",
    "        sports[i]=\"swimming\"\n",
    "     \n",
    "\n",
    "print(sports)"
   ]
  },
  {
   "cell_type": "code",
   "execution_count": 20,
   "id": "dc97f560-cbb8-4d2b-9a5b-b81ce45630ce",
   "metadata": {},
   "outputs": [
    {
     "name": "stdout",
     "output_type": "stream",
     "text": [
      "['cricket', 'hockey', 'basketball', 'swimming', 'ruby']\n"
     ]
    }
   ],
   "source": [
    "sports.remove('game')\n",
    "print(sports)"
   ]
  },
  {
   "cell_type": "code",
   "execution_count": 21,
   "id": "e94b635f-f2d8-4511-a05a-a12736b0fac8",
   "metadata": {},
   "outputs": [
    {
     "name": "stdout",
     "output_type": "stream",
     "text": [
      "ruby\n"
     ]
    }
   ],
   "source": [
    "x=sports.pop()\n",
    "print(x)"
   ]
  },
  {
   "cell_type": "code",
   "execution_count": 23,
   "id": "554aa6de-6763-44e4-9f75-d666e6868af4",
   "metadata": {},
   "outputs": [
    {
     "name": "stdout",
     "output_type": "stream",
     "text": [
      "swimming\n"
     ]
    }
   ],
   "source": [
    "x=sports.pop(-1)\n",
    "print(x)"
   ]
  },
  {
   "cell_type": "code",
   "execution_count": 28,
   "id": "31ee7bbf-ccac-459a-b3ad-8214ae9d6c07",
   "metadata": {},
   "outputs": [],
   "source": [
    "my_tuple=('apple','orange','mango','cherry')\n"
   ]
  },
  {
   "cell_type": "code",
   "execution_count": 26,
   "id": "288c795b-c0ef-4f1f-925c-13a11b7f52e7",
   "metadata": {},
   "outputs": [
    {
     "name": "stdout",
     "output_type": "stream",
     "text": [
      "orange\n"
     ]
    }
   ],
   "source": [
    "x=my_tuple[1]\n",
    "print(x)"
   ]
  },
  {
   "cell_type": "code",
   "execution_count": 27,
   "id": "c55cbbec-f0e0-447c-9c31-190096411955",
   "metadata": {},
   "outputs": [
    {
     "name": "stdout",
     "output_type": "stream",
     "text": [
      "['apple', 'orange', 'mango', 'cherry']\n"
     ]
    }
   ],
   "source": [
    "my_list=list(my_tuple)\n",
    "print(my_list)"
   ]
  },
  {
   "cell_type": "code",
   "execution_count": 29,
   "id": "6ea884f6-1a23-4499-9e92-0533b88f8e3b",
   "metadata": {},
   "outputs": [
    {
     "name": "stdout",
     "output_type": "stream",
     "text": [
      "['apple', 'orange', 'mango', 'cherry']\n"
     ]
    }
   ],
   "source": [
    "my_list1=[]\n",
    "for i in my_tuple:\n",
    "    my_list1.append(i)\n",
    "print(my_list1)\n",
    "    "
   ]
  },
  {
   "cell_type": "code",
   "execution_count": null,
   "id": "96eec8d8-5851-48f0-b202-4ee5b93d374d",
   "metadata": {},
   "outputs": [],
   "source": [
    "# dictoniary"
   ]
  },
  {
   "cell_type": "code",
   "execution_count": 30,
   "id": "3d741670-1421-4e50-9210-71bda39d4299",
   "metadata": {},
   "outputs": [],
   "source": [
    "student={\"name\":\"bhavana\",\n",
    "         \"age\":21,\n",
    "         \"branch\":\"cse\"}\n"
   ]
  },
  {
   "cell_type": "code",
   "execution_count": 31,
   "id": "0dd4c1c1-e85e-4d91-ab6a-a566e9a8afaa",
   "metadata": {},
   "outputs": [
    {
     "name": "stdout",
     "output_type": "stream",
     "text": [
      "bhavana\n"
     ]
    }
   ],
   "source": [
    "print(student[\"name\"])"
   ]
  },
  {
   "cell_type": "code",
   "execution_count": 32,
   "id": "2b80e321-9e8a-4eef-b927-8ff294f4a3a5",
   "metadata": {},
   "outputs": [],
   "source": [
    "student[\"name\"]=\"geetha\""
   ]
  },
  {
   "cell_type": "code",
   "execution_count": 33,
   "id": "d4599e75-7f33-45be-ad2a-959069d199e6",
   "metadata": {},
   "outputs": [
    {
     "name": "stdout",
     "output_type": "stream",
     "text": [
      "{'name': 'geetha', 'age': 21, 'branch': 'cse'}\n"
     ]
    }
   ],
   "source": [
    "print(student)"
   ]
  },
  {
   "cell_type": "code",
   "execution_count": 34,
   "id": "1508e14b-575b-4f82-853b-335d71610346",
   "metadata": {},
   "outputs": [
    {
     "name": "stdout",
     "output_type": "stream",
     "text": [
      "{'name': 'geetha', 'age': 21, 'branch': 'cse', 'college': 'xyz'}\n"
     ]
    }
   ],
   "source": [
    "student[\"college\"]=\"xyz\"\n",
    "print(student)"
   ]
  },
  {
   "cell_type": "code",
   "execution_count": 35,
   "id": "098dd7f2-ec0b-42dd-bb5f-4d65432feeed",
   "metadata": {},
   "outputs": [
    {
     "name": "stdout",
     "output_type": "stream",
     "text": [
      "[{'name': 'geetha', 'age': 21, 'branch': 'cse', 'college': 'xyz'}]\n"
     ]
    }
   ],
   "source": [
    "x=[]\n",
    "for students,details in student.items():\n",
    "    if details==\"xyz\":\n",
    "        x.append(student)\n",
    "print(x)"
   ]
  },
  {
   "cell_type": "code",
   "execution_count": null,
   "id": "24cbb3f6-2131-4a56-a65e-7c761f37195e",
   "metadata": {},
   "outputs": [],
   "source": []
  },
  {
   "cell_type": "code",
   "execution_count": null,
   "id": "b31abc98-e024-4169-a40c-e468b7970d70",
   "metadata": {},
   "outputs": [],
   "source": [
    "#set"
   ]
  },
  {
   "cell_type": "code",
   "execution_count": null,
   "id": "49c1ecff-478a-4cf0-925b-dc93261ae1ea",
   "metadata": {},
   "outputs": [],
   "source": []
  },
  {
   "cell_type": "code",
   "execution_count": 38,
   "id": "2176e512-a00c-42f9-9e4a-435f34577ded",
   "metadata": {},
   "outputs": [],
   "source": [
    "my_set={\"apple\",\"bhavana\",\"cherry\",\"apple\"}\n"
   ]
  },
  {
   "cell_type": "code",
   "execution_count": 42,
   "id": "72931834-48a3-4ccc-9e33-c71a5230053a",
   "metadata": {},
   "outputs": [
    {
     "name": "stdout",
     "output_type": "stream",
     "text": [
      "{'cherry', 'bhavana', 'apple'}\n"
     ]
    }
   ],
   "source": [
    "my_set.add(\"apple\")\n",
    "print(my_set)"
   ]
  },
  {
   "cell_type": "code",
   "execution_count": 43,
   "id": "7a60bf25-967f-4f0a-880f-087b2288f16b",
   "metadata": {},
   "outputs": [],
   "source": [
    "for i in my_set:\n",
    "    if \"a\" in my_set:\n",
    "        print(i)"
   ]
  },
  {
   "cell_type": "code",
   "execution_count": null,
   "id": "2b8bdd4f-e4d7-41a7-aa53-694c76117f6f",
   "metadata": {},
   "outputs": [],
   "source": []
  },
  {
   "cell_type": "code",
   "execution_count": null,
   "id": "5fe2fa1a-30c1-40aa-b925-62099a054663",
   "metadata": {},
   "outputs": [],
   "source": []
  }
 ],
 "metadata": {
  "kernelspec": {
   "display_name": "Python 3 (ipykernel)",
   "language": "python",
   "name": "python3"
  },
  "language_info": {
   "codemirror_mode": {
    "name": "ipython",
    "version": 3
   },
   "file_extension": ".py",
   "mimetype": "text/x-python",
   "name": "python",
   "nbconvert_exporter": "python",
   "pygments_lexer": "ipython3",
   "version": "3.12.7"
  }
 },
 "nbformat": 4,
 "nbformat_minor": 5
}
