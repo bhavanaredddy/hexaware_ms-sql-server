{
 "cells": [
  {
   "cell_type": "code",
   "execution_count": null,
   "id": "2de3ce5f-745d-4a27-a714-626e41dc668a",
   "metadata": {},
   "outputs": [
    {
     "name": "stdout",
     "output_type": "stream",
     "text": [
      "Original: ['apple', 'banana', 'cherry', 'apple']\n",
      "After append: ['apple', 'banana', 'cherry', 'apple', 'date']\n",
      "After remove: ['apple', 'cherry', 'apple', 'date']\n",
      "After modify: ['apple', 'blueberry', 'apple', 'date']\n",
      "Iterate:\n",
      "- apple\n",
      "- blueberry\n",
      "- apple\n",
      "- date\n"
     ]
    }
   ],
   "source": [
    "fruits = [\"apple\", \"banana\", \"cherry\", \"apple\"]\n",
    "print(\"Original:\", fruits)\n",
    "\n",
    "fruits.append(\"date\")\n",
    "print(\"After append:\", fruits)\n",
    "\n",
    "fruits.remove(\"banana\")\n",
    "print(\"After remove:\", fruits)\n",
    "\n",
    "fruits[1] = \"blueberry\"\n",
    "print(\"After modify:\", fruits)\n",
    "\n",
    "print(\"Iterate:\")\n",
    "for f in fruits:\n",
    "    print(\"-\", f)\n"
   ]
  },
  {
   "cell_type": "code",
   "execution_count": null,
   "id": "bd109ce5-af5e-422a-9061-b34bb7574122",
   "metadata": {},
   "outputs": [
    {
     "name": "stdout",
     "output_type": "stream",
     "text": [
      "Tuple: (3, 4)\n",
      "x = 3 , y = 4\n",
      "Concat: (3, 4, 5)\n",
      "Repeat: (3, 4, 3, 4)\n",
      "Iterate tuple:\n",
      "3\n",
      "4\n"
     ]
    }
   ],
   "source": [
    "# Tuple: Ordered, immutable, allows duplicates\n",
    "point = (3, 4)\n",
    "print(\"Tuple:\", point)\n",
    "\n",
    "# Access elements\n",
    "print(\"x =\", point[0], \", y =\", point[1])\n",
    "\n",
    "# Concatenate or repeat\n",
    "t2 = point + (5,)\n",
    "print(\"Concat:\", t2)\n",
    "\n",
    "t3 = point * 2\n",
    "print(\"Repeat:\", t3)\n",
    "\n",
    "# Iterate\n",
    "print(\"Iterate tuple:\")\n",
    "for coord in point:\n",
    "    print(coord)\n"
   ]
  },
  {
   "cell_type": "code",
   "execution_count": null,
   "id": "fcfc0d26-59b3-47a0-9d94-720a48aaab8f",
   "metadata": {},
   "outputs": [
    {
     "name": "stdout",
     "output_type": "stream",
     "text": [
      "Leaf is accelerating\n",
      "Leaf is charging\n"
     ]
    }
   ],
   "source": [
    "class Car:\n",
    "    def __init__(self, color, model, engine_type=\"Petrol\"):\n",
    "        self.color = color\n",
    "        self.model = model\n",
    "        self.engine_type = engine_type\n",
    "\n",
    "    def accelerate(self):\n",
    "        print(f\"{self.model} is accelerating\")\n",
    "\n",
    "class ElectricCar(Car):\n",
    "    def __init__(self, color, model, battery_kwh):\n",
    "        super().__init__(color, model, engine_type=\"Electric\")\n",
    "        self.battery_kwh = battery_kwh\n",
    "\n",
    "    def charge(self):\n",
    "        print(f\"{self.model} is charging\")\n",
    "\n",
    "ecar = ElectricCar(\"Blue\", \"Leaf\", 40)\n",
    "ecar.accelerate()\n",
    "ecar.charge()\n",
    "\n",
    "\n",
    "\n"
   ]
  },
  {
   "cell_type": "code",
   "execution_count": null,
   "id": "1799cd24-7718-419b-9c08-ca3810d15c0a",
   "metadata": {},
   "outputs": [
    {
     "name": "stdout",
     "output_type": "stream",
     "text": [
      "Longest word: world!\n",
      "Filtered (>5): [6, 8, 8]\n",
      "Duplicates in mix: [2, 3]\n"
     ]
    }
   ],
   "source": [
    "\n",
    "def find_longest_string(strings):\n",
    "    longest = \"\"\n",
    "    for s in strings:\n",
    "        if len(s) > len(longest):\n",
    "            longest = s\n",
    "    return longest\n",
    "\n",
    "def filter_greater_than_five(nums):\n",
    "    return [n for n in nums if n > 5]\n",
    "\n",
    "def find_duplicates(values):\n",
    "    seen, duplicates = set(), []\n",
    "    for v in values:\n",
    "        if v in seen:\n",
    "            duplicates.append(v)\n",
    "        else:\n",
    "            seen.add(v)\n",
    "    return duplicates\n",
    "\n",
    "# Demonstration\n",
    "words = [\"hi\", \"hello\", \"world!\"]\n",
    "numbers = [1, 6, 8, 3, 4, 8]\n",
    "mix = [2, 3, 2, 5, 3]\n",
    "\n",
    "print(\"Longest word:\", find_longest_string(words))\n",
    "print(\"Filtered (>5):\", filter_greater_than_five(numbers))\n",
    "print(\"Duplicates in mix:\", find_duplicates(mix))\n"
   ]
  },
  {
   "cell_type": "code",
   "execution_count": null,
   "id": "b06ce8cb-588d-43c4-8406-c4d9cc254f7c",
   "metadata": {},
   "outputs": [
    {
     "name": "stdout",
     "output_type": "stream",
     "text": [
      "1234 for the student Job has been added.\n",
      "2345 for the student Raj has been added.\n",
      "3454 for the student Alice has been added.\n",
      "4567 for the student Hari has been added.\n",
      "{'studentname': 'Job', 'marks': 85}\n",
      "[{'rollnumber': 1234, 'studentname': 'Job', 'marks': 85}, {'rollnumber': 3454, 'studentname': 'Alice', 'marks': 91}, {'rollnumber': 4567, 'studentname': 'Hari', 'marks': 92}]\n"
     ]
    }
   ],
   "source": [
    "\n",
    "class StudentManager:\n",
    "    def __init__(self):\n",
    "        self.students = {}\n",
    "\n",
    "    def addStudent(self, rollnumber, studentname, marks):\n",
    "        if rollnumber in self.students:\n",
    "            print(f\"Roll number {rollnumber} already exists.\")\n",
    "        else:\n",
    "            self.students[rollnumber] = {\"studentname\": studentname, \"marks\": marks}\n",
    "            print(f\"{rollnumber} for the student {studentname} has been added.\")\n",
    "\n",
    "    def getStudent(self, rollnumber):\n",
    "        if rollnumber in self.students:\n",
    "            return self.students[rollnumber]\n",
    "        else:\n",
    "            return f\"No student with roll number {rollnumber}\"\n",
    "\n",
    "    def getTopStudents(self, criteria):\n",
    "        topstudents = [\n",
    "            {\"rollnumber\": rollnumber, \"studentname\": data[\"studentname\"], \"marks\": data[\"marks\"]}\n",
    "            for rollnumber, data in self.students.items()\n",
    "            if data[\"marks\"] > criteria\n",
    "        ]\n",
    "        return topstudents\n",
    "\n",
    "result = StudentManager()\n",
    "\n",
    "students_data = [\n",
    "    {\"rollnumber\": 1234, \"studentname\": \"Job\", \"marks\": 85},\n",
    "    {\"rollnumber\": 2345, \"studentname\": \"Raj\", \"marks\": 75},\n",
    "    {\"rollnumber\": 3454, \"studentname\": \"Alice\", \"marks\": 91},\n",
    "    {\"rollnumber\": 4567, \"studentname\": \"Hari\", \"marks\": 92}\n",
    "]\n",
    "\n",
    "for s in students_data:\n",
    "    result.addStudent(s[\"rollnumber\"], s[\"studentname\"], s[\"marks\"])\n",
    "\n",
    "\n",
    "print(result.getStudent(1234))\n",
    "\n",
    "\n",
    "print(result.getTopStudents(80))\n",
    "\n"
   ]
  },
  {
   "cell_type": "code",
   "execution_count": null,
   "id": "c9460172-725e-44d5-9a50-0845940a4f4a",
   "metadata": {},
   "outputs": [
    {
     "name": "stdout",
     "output_type": "stream",
     "text": [
      "Geetha\n",
      "1000 is deposited, and my balance is 1001\n",
      "1001\n"
     ]
    }
   ],
   "source": [
    "class BankAccount:\n",
    "    def __init__(self, acc_holder, balance=0):\n",
    "        self.acc_holder = acc_holder\n",
    "        self._balance = balance\n",
    "\n",
    "    def deposit(self, amount):\n",
    "        if amount > 0:\n",
    "            self._balance += amount\n",
    "            print(f\"{amount} is deposited, and my balance is {self._balance}\")\n",
    "        else:\n",
    "            print(\"Deposit amount is invalid\")\n",
    "\n",
    "    def check_balance(self):\n",
    "        return self._balance\n",
    "\n",
    "\n",
    "account = BankAccount(\"Geetha\", 1)\n",
    "print(account.acc_holder)\n",
    "account.deposit(1000)\n",
    "print(account.check_balance())\n"
   ]
  },
  {
   "cell_type": "code",
   "execution_count": null,
   "id": "a43850c3-22ab-4d39-a2e5-87a28e89ed08",
   "metadata": {},
   "outputs": [
    {
     "name": "stdout",
     "output_type": "stream",
     "text": [
      "789 is deposited, and my balance is 1789\n",
      "Interest of 125.23000000000002 is added. New balance is 1914.23\n",
      "After savings, the balance is 1914.23\n"
     ]
    }
   ],
   "source": [
    "class BankAccount:\n",
    "    def __init__(self, acc_holder, balance=0):\n",
    "        self.acc_holder = acc_holder\n",
    "        self._balance = balance\n",
    "\n",
    "    def deposit(self, amount):\n",
    "        if amount > 0:\n",
    "            self._balance += amount\n",
    "            print(f\"{amount} is deposited, and my balance is {self._balance}\")\n",
    "        else:\n",
    "            print(\"Deposit amount is invalid\")\n",
    "\n",
    "    def check_balance(self):\n",
    "        return self._balance\n",
    "\n",
    "class SavingsAccount(BankAccount):\n",
    "    def __init__(self, acc_holder, balance=0, interest_rate=0.5):\n",
    "        super().__init__(acc_holder, balance)\n",
    "        self.interest_rate = interest_rate\n",
    "\n",
    "    def calculate_interest(self):\n",
    "        interest = self._balance * self.interest_rate\n",
    "        self._balance += interest\n",
    "        print(f\"Interest of {interest} is added. New balance is {self._balance}\")\n",
    "\n",
    "\n",
    "savings = SavingsAccount(\"Geetha\", balance=1000, interest_rate=0.07)\n",
    "savings.deposit(789)\n",
    "savings.calculate_interest()\n",
    "print(f\"After savings, the balance is {savings.check_balance()}\")\n"
   ]
  },
  {
   "cell_type": "code",
   "execution_count": null,
   "id": "9d6cb282-1354-49e4-a85c-220669cbeeb2",
   "metadata": {},
   "outputs": [
    {
     "name": "stdout",
     "output_type": "stream",
     "text": [
      "3 is deposited, and my balance is 893\n",
      "2000 is deposited, and my balance is 2893\n",
      "300 is deposited, and my balance is 1089\n",
      "Amount withdrawn is 1000, new balance is 89\n"
     ]
    }
   ],
   "source": [
    "class BankAccount:\n",
    "    def __init__(self, acc_holder, balance=0):\n",
    "        self.acc_holder = acc_holder\n",
    "        self._balance = balance\n",
    "\n",
    "    def deposit(self, amount):\n",
    "        if amount > 0:\n",
    "            self._balance += amount\n",
    "            print(f\"{amount} is deposited, and my balance is {self._balance}\")\n",
    "        else:\n",
    "            print(\"Deposit amount is invalid\")\n",
    "\n",
    "    def withdraw(self, amount):\n",
    "        if amount <= self._balance:\n",
    "            self._balance -= amount\n",
    "            print(f\"Amount withdrawn is {amount}, new balance is {self._balance}\")\n",
    "        else:\n",
    "            print(\"Insufficient balance\")\n",
    "\n",
    "    def check_balance(self):\n",
    "        return self._balance\n",
    "\n",
    "class SavingsAccount(BankAccount):\n",
    "    def __init__(self, acc_holder, balance=0, overdraft_limit=1000):\n",
    "        super().__init__(acc_holder, balance)\n",
    "        self.overdraft_limit = overdraft_limit\n",
    "\n",
    "    def withdraw(self, amount):\n",
    "        if amount <= self._balance + self.overdraft_limit:\n",
    "            self._balance -= amount\n",
    "            print(f\"Amount withdrawn is {amount}, new balance is {self._balance}\")\n",
    "        else:\n",
    "            print(\"Exceeded overdraft limit\")\n",
    "\n",
    "\n",
    "basic_acc = BankAccount(\"abd\", 890)\n",
    "basic_acc.deposit(3)\n",
    "basic_acc.deposit(2000)\n",
    "\n",
    "\n",
    "sav_acc = SavingsAccount(\"jo\", balance=789, overdraft_limit=2000)\n",
    "sav_acc.deposit(300)\n",
    "sav_acc.withdraw(1000)  # Example to show overdraft usage\n"
   ]
  },
  {
   "cell_type": "code",
   "execution_count": null,
   "id": "f1f0dcdb-66a6-4484-90a5-7f2466612956",
   "metadata": {},
   "outputs": [],
   "source": []
  },
  {
   "cell_type": "code",
   "execution_count": null,
   "id": "59928339-6367-4868-be06-040eb3c10b55",
   "metadata": {},
   "outputs": [],
   "source": []
  }
 ],
 "metadata": {
  "kernelspec": {
   "display_name": "Python 3 (ipykernel)",
   "language": "python",
   "name": "python3"
  },
  "language_info": {
   "codemirror_mode": {
    "name": "ipython",
    "version": 3
   },
   "file_extension": ".py",
   "mimetype": "text/x-python",
   "name": "python",
   "nbconvert_exporter": "python",
   "pygments_lexer": "ipython3",
   "version": "3.12.7"
  }
 },
 "nbformat": 4,
 "nbformat_minor": 5
}
