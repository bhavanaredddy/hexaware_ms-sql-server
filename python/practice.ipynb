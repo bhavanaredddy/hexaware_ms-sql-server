{
 "cells": [
  {
   "cell_type": "code",
   "execution_count": 2,
   "id": "d8a7ab21-60c1-4dbc-a606-26c5b22c909b",
   "metadata": {},
   "outputs": [
    {
     "name": "stdout",
     "output_type": "stream",
     "text": [
      "Student ID: 101, Name: Bhavana Reddy\n"
     ]
    }
   ],
   "source": [
    "class Student:\n",
    "    def __init__(self, student_id, student_name):\n",
    "        self.student_id = student_id\n",
    "        self.student_name = student_name\n",
    "\n",
    "    def display(self):\n",
    "        print(f\"Student ID: {self.student_id}, Name: {self.student_name}\")\n",
    "\n",
    "\n",
    "\n",
    "student = Student(101, \"Bhavana Reddy\")\n",
    "student.display()\n"
   ]
  },
  {
   "cell_type": "code",
   "execution_count": 3,
   "id": "055bb6e4-4563-4550-b28b-70f49c0e940c",
   "metadata": {},
   "outputs": [
    {
     "name": "stdout",
     "output_type": "stream",
     "text": [
      "Area of Rectangle: 50\n"
     ]
    }
   ],
   "source": [
    "class Rectangle:\n",
    "    def __init__(self, length, width):\n",
    "        self.length = length\n",
    "        self.width = width\n",
    "\n",
    "    def compute_area(self):\n",
    "        return self.length * self.width\n",
    "\n",
    "\n",
    "\n",
    "rect = Rectangle(10, 5)\n",
    "print(f\"Area of Rectangle: {rect.compute_area()}\")\n"
   ]
  },
  {
   "cell_type": "code",
   "execution_count": 4,
   "id": "d75266ce-7d52-4a17-ae5c-bed783c484c8",
   "metadata": {},
   "outputs": [
    {
     "name": "stdout",
     "output_type": "stream",
     "text": [
      "Overtime Pay: 1000\n"
     ]
    }
   ],
   "source": [
    "class Employee:\n",
    "    def __init__(self, emp_id, name, salary, department):\n",
    "        self.emp_id = emp_id\n",
    "        self.name = name\n",
    "        self.salary = salary\n",
    "        self.department = department\n",
    "\n",
    "    def calculate_overtime(self, hours, rate_per_hour):\n",
    "        overtime_pay = hours * rate_per_hour\n",
    "        return overtime_pay\n",
    "\n",
    "\n",
    "# Usage\n",
    "emp = Employee(1, \"Ajay\", 30000, \"HR\")\n",
    "print(f\"Overtime Pay: {emp.calculate_overtime(5, 200)}\")\n"
   ]
  },
  {
   "cell_type": "code",
   "execution_count": 5,
   "id": "3df9e8a6-f05c-4a3d-bc54-b1d6c316380b",
   "metadata": {},
   "outputs": [
    {
     "name": "stdout",
     "output_type": "stream",
     "text": [
      "Sum: 9, Product: 24\n",
      "Original: Python, Reversed: nohtyP\n"
     ]
    }
   ],
   "source": [
    "# Sum and Product of a List\n",
    "numbers = [2, 3, 4]\n",
    "sum_of_list = sum(numbers)\n",
    "\n",
    "product = 1\n",
    "for num in numbers:\n",
    "    product *= num\n",
    "\n",
    "print(f\"Sum: {sum_of_list}, Product: {product}\")\n",
    "\n",
    "# String Reversal\n",
    "text = \"Python\"\n",
    "reversed_text = text[::-1]\n",
    "print(f\"Original: {text}, Reversed: {reversed_text}\")\n"
   ]
  },
  {
   "cell_type": "code",
   "execution_count": null,
   "id": "0262956c-0504-4e96-aa39-7876137d6139",
   "metadata": {},
   "outputs": [],
   "source": []
  }
 ],
 "metadata": {
  "kernelspec": {
   "display_name": "Python 3 (ipykernel)",
   "language": "python",
   "name": "python3"
  },
  "language_info": {
   "codemirror_mode": {
    "name": "ipython",
    "version": 3
   },
   "file_extension": ".py",
   "mimetype": "text/x-python",
   "name": "python",
   "nbconvert_exporter": "python",
   "pygments_lexer": "ipython3",
   "version": "3.12.7"
  }
 },
 "nbformat": 4,
 "nbformat_minor": 5
}
