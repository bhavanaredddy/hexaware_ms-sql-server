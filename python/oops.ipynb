{
 "cells": [
  {
   "cell_type": "code",
   "execution_count": null,
   "id": "23563230-82c1-474a-9411-3fe862da8bfc",
   "metadata": {},
   "outputs": [],
   "source": [
    "#oops"
   ]
  },
  {
   "cell_type": "code",
   "execution_count": 2,
   "id": "d73b478c-3105-460b-af14-92ea96bd05d4",
   "metadata": {},
   "outputs": [
    {
     "name": "stdout",
     "output_type": "stream",
     "text": [
      "3456 deposited,so balance is 3556\n"
     ]
    }
   ],
   "source": [
    "class person:\n",
    "    def __init__(self,name,age):\n",
    "        self.name=name\n",
    "        self.age=age\n",
    "class bankaccount:\n",
    "    def __init__(self, owner:person,accountid,balance=1):\n",
    "        self.accountid=accountid\n",
    "        self.balance=balance\n",
    "        self.owner=owner\n",
    "    def deposit(self,amount):\n",
    "        self.balance=self.balance+amount\n",
    "        print(f\"{amount} deposited,so balance is {self.balance}\")\n",
    "bhavana=person(\"bhavna\",21)\n",
    "account=bankaccount(bhavana,234,100)\n",
    "account.deposit(3456)"
   ]
  },
  {
   "cell_type": "code",
   "execution_count": null,
   "id": "14a76acb-37f5-4ef7-abfc-826cdbf7c112",
   "metadata": {},
   "outputs": [],
   "source": []
  },
  {
   "cell_type": "code",
   "execution_count": null,
   "id": "27eacf22-7cb7-44a9-a7ae-a70dac830e7f",
   "metadata": {},
   "outputs": [],
   "source": []
  },
  {
   "cell_type": "code",
   "execution_count": null,
   "id": "2223dfb6-6d1e-450a-8abe-8a7470866f43",
   "metadata": {},
   "outputs": [],
   "source": []
  },
  {
   "cell_type": "code",
   "execution_count": null,
   "id": "874232ad-df9e-4a84-874a-b60a2d52e13c",
   "metadata": {},
   "outputs": [],
   "source": []
  }
 ],
 "metadata": {
  "kernelspec": {
   "display_name": "Python 3 (ipykernel)",
   "language": "python",
   "name": "python3"
  },
  "language_info": {
   "codemirror_mode": {
    "name": "ipython",
    "version": 3
   },
   "file_extension": ".py",
   "mimetype": "text/x-python",
   "name": "python",
   "nbconvert_exporter": "python",
   "pygments_lexer": "ipython3",
   "version": "3.12.7"
  }
 },
 "nbformat": 4,
 "nbformat_minor": 5
}
