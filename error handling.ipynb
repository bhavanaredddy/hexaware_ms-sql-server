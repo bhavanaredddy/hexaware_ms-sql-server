{
 "cells": [
  {
   "cell_type": "code",
   "execution_count": null,
   "id": "7ba75323-30d3-4a08-87cb-a7a96c1b758f",
   "metadata": {},
   "outputs": [],
   "source": []
  },
  {
   "cell_type": "code",
   "execution_count": 2,
   "id": "d2e145eb-51ba-41a2-9b2c-cec4a420f147",
   "metadata": {},
   "outputs": [
    {
     "name": "stdin",
     "output_type": "stream",
     "text": [
      "Enter a number:  4\n"
     ]
    },
    {
     "name": "stdout",
     "output_type": "stream",
     "text": [
      " Error: Division by zero is not allowed.\n",
      " Finished try-catch block.\n"
     ]
    }
   ],
   "source": [
    "try:\n",
    "    num = int(input(\"Enter a number: \"))\n",
    "    result = num / 0  \n",
    "    print(\"Result:\", result)\n",
    "\n",
    "except ZeroDivisionError:\n",
    "    print(\" Error: Division by zero is not allowed.\")\n",
    "\n",
    "except Exception as e:\n",
    "    print(\" Unexpected error:\", e)\n",
    "\n",
    "finally:\n",
    "    print(\" Finished try-catch block.\")\n"
   ]
  },
  {
   "cell_type": "markdown",
   "id": "986bb6f7-839d-4c2b-991c-af2b5c31a923",
   "metadata": {},
   "source": [
    "# zero division error "
   ]
  },
  {
   "cell_type": "code",
   "execution_count": 3,
   "id": "b4654106-6ca5-4a24-ac42-08ff4d22955b",
   "metadata": {},
   "outputs": [
    {
     "name": "stdout",
     "output_type": "stream",
     "text": [
      " Cannot divide by zero!\n"
     ]
    }
   ],
   "source": [
    "try:\n",
    "    x = 10\n",
    "    y = 0\n",
    "    print(x / y)\n",
    "except ZeroDivisionError:\n",
    "    print(\" Cannot divide by zero!\")\n"
   ]
  },
  {
   "cell_type": "markdown",
   "id": "303548fb-35da-431f-a30e-2f41260935fe",
   "metadata": {},
   "source": [
    "# value error"
   ]
  },
  {
   "cell_type": "code",
   "execution_count": 4,
   "id": "ab723915-6208-4cca-9f19-3767d54ceeca",
   "metadata": {},
   "outputs": [
    {
     "name": "stdin",
     "output_type": "stream",
     "text": [
      "Enter your age:  gl\n"
     ]
    },
    {
     "name": "stdout",
     "output_type": "stream",
     "text": [
      " Please enter a valid number.\n"
     ]
    }
   ],
   "source": [
    "try:\n",
    "    age = int(input(\"Enter your age: \"))\n",
    "    print(\"You entered:\", age)\n",
    "except ValueError:\n",
    "    print(\" Please enter a valid number.\")\n"
   ]
  },
  {
   "cell_type": "markdown",
   "id": "90286ee6-d99d-4719-870f-f7b321783e41",
   "metadata": {},
   "source": [
    "# index error"
   ]
  },
  {
   "cell_type": "code",
   "execution_count": 5,
   "id": "70f42cbc-658a-4f40-b61f-a3993de0cd28",
   "metadata": {},
   "outputs": [
    {
     "name": "stdout",
     "output_type": "stream",
     "text": [
      " Index out of range.\n"
     ]
    }
   ],
   "source": [
    "try:\n",
    "    my_list = [1, 2, 3]\n",
    "    print(my_list[5])\n",
    "except IndexError:\n",
    "    print(\" Index out of range.\")\n"
   ]
  },
  {
   "cell_type": "code",
   "execution_count": null,
   "id": "5c55c90f-8d86-4277-89df-03dd963ae378",
   "metadata": {},
   "outputs": [],
   "source": []
  },
  {
   "cell_type": "markdown",
   "id": "aa6ad2d9-c786-4c44-9c23-2e1c524751c3",
   "metadata": {},
   "source": [
    "\n",
    "\n",
    "# keyerreor"
   ]
  },
  {
   "cell_type": "code",
   "execution_count": 6,
   "id": "5a101b23-66f8-4fad-b7b1-836361edc442",
   "metadata": {},
   "outputs": [
    {
     "name": "stdout",
     "output_type": "stream",
     "text": [
      " That key does not exist in the dictionary.\n"
     ]
    }
   ],
   "source": [
    "try:\n",
    "    my_dict = {\"name\": \"Bhavana\"}\n",
    "    print(my_dict[\"age\"])\n",
    "except KeyError:\n",
    "    print(\" That key does not exist in the dictionary.\")\n"
   ]
  },
  {
   "cell_type": "code",
   "execution_count": null,
   "id": "4c5fd5b7-5f4f-4942-bc28-0929800928f6",
   "metadata": {},
   "outputs": [],
   "source": []
  },
  {
   "cell_type": "markdown",
   "id": "4e97fdb6-2aa2-41fd-aad0-cae94b8fa90d",
   "metadata": {},
   "source": [
    "# file not found "
   ]
  },
  {
   "cell_type": "code",
   "execution_count": 7,
   "id": "623f94f8-2fe3-42cf-a2ba-514ba24c35eb",
   "metadata": {},
   "outputs": [
    {
     "name": "stdout",
     "output_type": "stream",
     "text": [
      " File not found.\n"
     ]
    }
   ],
   "source": [
    "try:\n",
    "    with open(\"missing.txt\", \"r\") as file:\n",
    "        print(file.read())\n",
    "except FileNotFoundError:\n",
    "    print(\" File not found.\")\n"
   ]
  },
  {
   "cell_type": "markdown",
   "id": "5241d3ff-878d-446e-bc82-c584e86f967e",
   "metadata": {},
   "source": [
    "# try except else"
   ]
  },
  {
   "cell_type": "code",
   "execution_count": 8,
   "id": "d71051d9-3b3d-473e-b5e4-338e1c8e0a6c",
   "metadata": {},
   "outputs": [
    {
     "name": "stdin",
     "output_type": "stream",
     "text": [
      "Enter numerator:  6\n",
      "Enter denominator:  e\n"
     ]
    },
    {
     "name": "stdout",
     "output_type": "stream",
     "text": [
      " Error: Invalid input. Please enter numbers only.\n"
     ]
    }
   ],
   "source": [
    "try:\n",
    "    num1 = int(input(\"Enter numerator: \"))\n",
    "    num2 = int(input(\"Enter denominator: \"))\n",
    "    result = num1 / num2\n",
    "\n",
    "except ZeroDivisionError:\n",
    "    print(\" Error: Cannot divide by zero.\")\n",
    "\n",
    "except ValueError:\n",
    "    print(\" Error: Invalid input. Please enter numbers only.\")\n",
    "\n",
    "else:\n",
    "    print(\" Division successful. Result:\", result)\n"
   ]
  },
  {
   "cell_type": "code",
   "execution_count": null,
   "id": "71070095-d82f-47e4-a5f9-0a9a769f7786",
   "metadata": {},
   "outputs": [],
   "source": []
  },
  {
   "cell_type": "code",
   "execution_count": null,
   "id": "4ac53d97-2b11-4fe5-8ba9-b0d36a340533",
   "metadata": {},
   "outputs": [],
   "source": []
  },
  {
   "cell_type": "code",
   "execution_count": null,
   "id": "06251407-46dd-4798-8e80-645a9fd969d2",
   "metadata": {},
   "outputs": [],
   "source": []
  }
 ],
 "metadata": {
  "kernelspec": {
   "display_name": "Python 3 (ipykernel)",
   "language": "python",
   "name": "python3"
  },
  "language_info": {
   "codemirror_mode": {
    "name": "ipython",
    "version": 3
   },
   "file_extension": ".py",
   "mimetype": "text/x-python",
   "name": "python",
   "nbconvert_exporter": "python",
   "pygments_lexer": "ipython3",
   "version": "3.12.7"
  }
 },
 "nbformat": 4,
 "nbformat_minor": 5
}
